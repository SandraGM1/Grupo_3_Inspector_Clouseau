{
 "cells": [
  {
   "cell_type": "code",
   "execution_count": null,
   "id": "23d362ce",
   "metadata": {},
   "outputs": [],
   "source": [
    "import pandas as pd\n",
    "import sqlite3"
   ]
  },
  {
   "cell_type": "code",
   "execution_count": null,
   "id": "ee92cafd",
   "metadata": {},
   "outputs": [],
   "source": [
    "cnx = sqlite3.connect(\"sql-murder-mystery.db\")"
   ]
  },
  {
   "cell_type": "code",
   "execution_count": null,
   "id": "dea64b13",
   "metadata": {},
   "outputs": [],
   "source": [
    "cursor_prov = cnx.cursor()"
   ]
  },
  {
   "cell_type": "code",
   "execution_count": null,
   "id": "e5acf6fd",
   "metadata": {},
   "outputs": [],
   "source": [
    "query = ''' \n",
    "SELECT *\n",
    "FROM crime_scene_report\n",
    "where date = \"20180115\" and type = \"murder\" and city = \"SQL City\"\n",
    "'''\n",
    "pd.read_sql(query, cnx)"
   ]
  },
  {
   "cell_type": "code",
   "execution_count": null,
   "id": "51ffcbca",
   "metadata": {},
   "outputs": [],
   "source": [
    "cursor_prov.fetchall()"
   ]
  },
  {
   "cell_type": "code",
   "execution_count": null,
   "id": "657d6a9e",
   "metadata": {},
   "outputs": [],
   "source": [
    "query = ''' \n",
    "SELECT *\n",
    "FROM sqlite_master\n",
    "where type = \"table\"\n",
    "'''\n",
    "pd.read_sql(query, cnx)"
   ]
  },
  {
   "cell_type": "code",
   "execution_count": null,
   "id": "73d69c4b",
   "metadata": {},
   "outputs": [],
   "source": [
    "query = ''' \n",
    "SELECT *\n",
    "FROM crime_scene_report\n",
    "where date = \"20180115\" and type = \"murder\" and city = \"SQL City\"\n",
    "'''\n",
    "pd.read_sql(query, cnx)"
   ]
  },
  {
   "cell_type": "code",
   "execution_count": null,
   "id": "53c83a8d",
   "metadata": {},
   "outputs": [],
   "source": [
    "query = ''' \n",
    "SELECT *\n",
    "FROM person\n",
    "WHERE address_street_name in (\"Northwestern Dr\")\n",
    "ORDER BY address_number DESC   \n",
    "'''\n",
    "pd.read_sql(query, cnx)"
   ]
  },
  {
   "cell_type": "code",
   "execution_count": null,
   "id": "3ade833e",
   "metadata": {},
   "outputs": [],
   "source": [
    "query = ''' \n",
    "SELECT *\n",
    "FROM person\n",
    "WHERE address_street_name = \"Franklin Ave\" and name like \"Annabel%\"   \n",
    "'''\n",
    "pd.read_sql(query, cnx)"
   ]
  },
  {
   "cell_type": "code",
   "execution_count": null,
   "id": "902026f3",
   "metadata": {},
   "outputs": [],
   "source": [
    "query = ''' \n",
    "SELECT *\n",
    "FROM interview\n",
    "WHERE person_id in (14887, 16371) \n",
    "'''\n",
    "pd.read_sql(query, cnx)"
   ]
  },
  {
   "cell_type": "code",
   "execution_count": null,
   "id": "bf8f6225",
   "metadata": {},
   "outputs": [],
   "source": [
    "query = ''' \n",
    "SELECT *\n",
    "FROM get_fit_now_member\n",
    "WHERE id like \"48Z%\" \n",
    "'''\n",
    "pd.read_sql(query, cnx)"
   ]
  },
  {
   "cell_type": "code",
   "execution_count": null,
   "id": "0db3a323",
   "metadata": {},
   "outputs": [],
   "source": [
    "query = ''' \n",
    "SELECT *\n",
    "FROM get_fit_now_check_in\n",
    "WHERE membership_id in (\"48Z38\", \"48Z55\") and check_in_date = 20180109\n",
    "'''\n",
    "pd.read_sql(query, cnx)"
   ]
  },
  {
   "cell_type": "code",
   "execution_count": null,
   "id": "e32a6d76",
   "metadata": {},
   "outputs": [],
   "source": [
    "query = ''' \n",
    "SELECT *\n",
    "FROM get_fit_now_check_in\n",
    "WHERE membership_id in (\"48Z38\", \"48Z55\") and check_in_date = 20180115  \n",
    "'''\n",
    "pd.read_sql(query, cnx)"
   ]
  },
  {
   "cell_type": "code",
   "execution_count": null,
   "id": "17acc240",
   "metadata": {},
   "outputs": [],
   "source": [
    "query = ''' \n",
    "SELECT *\n",
    "FROM drivers_license\n",
    "WHERE plate_number like \"H42W%\"  \n",
    "'''\n",
    "pd.read_sql(query, cnx)"
   ]
  },
  {
   "cell_type": "code",
   "execution_count": null,
   "id": "4034597b",
   "metadata": {},
   "outputs": [],
   "source": [
    "query = ''' \n",
    "SELECT *\n",
    "FROM person\n",
    "WHERE license_id = 183779  \n",
    "'''\n",
    "pd.read_sql(query, cnx)"
   ]
  },
  {
   "cell_type": "code",
   "execution_count": null,
   "id": "1aba2442",
   "metadata": {},
   "outputs": [],
   "source": [
    "query = ''' \n",
    "SELECT *\n",
    "FROM crime_scene_report\n",
    "WHERE type = \"robbery\" and date < 20180115 and description like \"%car%\"\n",
    "'''\n",
    "pd.read_sql(query, cnx)"
   ]
  },
  {
   "cell_type": "code",
   "execution_count": null,
   "id": "8acd99f0",
   "metadata": {},
   "outputs": [],
   "source": [
    "query = ''' \n",
    "SELECT *\n",
    "FROM person\n",
    "WHERE license_id = 183779 \n",
    "'''\n",
    "pd.read_sql(query, cnx)"
   ]
  },
  {
   "cell_type": "code",
   "execution_count": null,
   "id": "5eac2ce0",
   "metadata": {},
   "outputs": [],
   "source": [
    "query = ''' \n",
    "SELECT *\n",
    "FROM interview\n",
    "WHERE person_id = 78193 \n",
    "'''\n",
    "pd.read_sql(query, cnx)"
   ]
  },
  {
   "cell_type": "code",
   "execution_count": null,
   "id": "9ca8aaf6",
   "metadata": {},
   "outputs": [],
   "source": [
    "query = ''' \n",
    "SELECT *\n",
    "FROM facebook_event_checkin\n",
    "WHERE person_id = 78193 \n",
    "'''\n",
    "pd.read_sql(query, cnx)"
   ]
  },
  {
   "cell_type": "code",
   "execution_count": null,
   "id": "1b7f2b9d",
   "metadata": {},
   "outputs": [],
   "source": [
    "query = ''' \n",
    "ELECT *\n",
    "FROM person\n",
    "WHERE name = \"Jeremy Bowers\"\n",
    "'''\n",
    "pd.read_sql(query, cnx)"
   ]
  },
  {
   "cell_type": "code",
   "execution_count": null,
   "id": "6b85fda9",
   "metadata": {},
   "outputs": [],
   "source": [
    "query = ''' \n",
    "SELECT *\n",
    "FROM drivers_license\n",
    "WHERE id = 423327\n",
    "'''\n",
    "pd.read_sql(query, cnx)"
   ]
  },
  {
   "cell_type": "code",
   "execution_count": null,
   "id": "54b8d1b7",
   "metadata": {},
   "outputs": [],
   "source": [
    "query = ''' \n",
    "SELECT *\n",
    "FROM facebook_event_checkin\n",
    "WHERE person_id = 67318\n",
    "'''\n",
    "pd.read_sql(query, cnx)"
   ]
  },
  {
   "cell_type": "code",
   "execution_count": null,
   "id": "f88086a5",
   "metadata": {},
   "outputs": [],
   "source": [
    "query = ''' \n",
    "SELECT *\n",
    "FROM interview\n",
    "WHERE person_id = 67318\n",
    "'''\n",
    "pd.read_sql(query, cnx)"
   ]
  },
  {
   "cell_type": "code",
   "execution_count": null,
   "id": "30d90522",
   "metadata": {},
   "outputs": [],
   "source": [
    "query = ''' \n",
    "SELECT COUNT(person_id), person_id\n",
    "FROM facebook_event_checkin\n",
    "WHERE date like \"201712%\" and event_name = \"SQL Symphony Concert\"\n",
    "GROUP BY person_id\n",
    "'''\n",
    "pd.read_sql(query, cnx)"
   ]
  },
  {
   "cell_type": "code",
   "execution_count": null,
   "id": "4b6a0a19",
   "metadata": {},
   "outputs": [],
   "source": [
    "query = ''' \n",
    "SELECT *\n",
    "FROM person\n",
    "WHERE id = 24556\n",
    "'''\n",
    "pd.read_sql(query, cnx)"
   ]
  },
  {
   "cell_type": "code",
   "execution_count": null,
   "id": "37370924",
   "metadata": {},
   "outputs": [],
   "source": [
    "query = ''' \n",
    "SELECT *\n",
    "FROM person\n",
    "WHERE id = 99716\n",
    "'''\n",
    "pd.read_sql(query, cnx)"
   ]
  },
  {
   "cell_type": "code",
   "execution_count": null,
   "id": "b16938ca",
   "metadata": {},
   "outputs": [],
   "source": [
    "query = ''' \n",
    "SELECT *\n",
    "FROM drivers_license\n",
    "WHERE id = 202298\n",
    "'''\n",
    "pd.read_sql(query, cnx)"
   ]
  },
  {
   "cell_type": "code",
   "execution_count": null,
   "id": "71157016",
   "metadata": {},
   "outputs": [],
   "source": [
    "query = ''' \n",
    "INSERT INTO solution VALUES (1, 'Jeremy Bowers');\n",
    "SELECT value FROM solution;\n",
    "'''\n",
    "pd.read_sql(query, cnx)"
   ]
  },
  {
   "cell_type": "code",
   "execution_count": null,
   "id": "a55fdbf1",
   "metadata": {},
   "outputs": [],
   "source": [
    "query = ''' \n",
    "INSERT INTO solution VALUES (1, 'Miranda Priestly');\n",
    "SELECT value FROM solution;\n",
    "'''\n",
    "pd.read_sql(query, cnx)"
   ]
  }
 ],
 "metadata": {
  "kernelspec": {
   "display_name": "Python 3",
   "language": "python",
   "name": "python3"
  },
  "language_info": {
   "codemirror_mode": {
    "name": "ipython",
    "version": 3
   },
   "file_extension": ".py",
   "mimetype": "text/x-python",
   "name": "python",
   "nbconvert_exporter": "python",
   "pygments_lexer": "ipython3",
   "version": "3.13.2"
  }
 },
 "nbformat": 4,
 "nbformat_minor": 5
}
