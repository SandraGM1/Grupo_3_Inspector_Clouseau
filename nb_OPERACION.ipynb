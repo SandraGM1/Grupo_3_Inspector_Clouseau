{
 "cells": [
  {
   "cell_type": "code",
   "execution_count": 1,
   "metadata": {},
   "outputs": [
    {
     "name": "stdout",
     "output_type": "stream",
     "text": [
      "Requirement already satisfied: Faker in c:\\users\\segur\\anaconda3\\lib\\site-packages (37.1.0)\n",
      "Requirement already satisfied: tzdata in c:\\users\\segur\\anaconda3\\lib\\site-packages (from Faker) (2023.3)\n",
      "Note: you may need to restart the kernel to use updated packages.\n"
     ]
    }
   ],
   "source": [
    "pip install Faker\n"
   ]
  },
  {
   "cell_type": "code",
   "execution_count": 188,
   "metadata": {},
   "outputs": [],
   "source": [
    "import sqlite3\n",
    "from faker import Faker\n",
    "import random\n",
    "import pandas as pd\n"
   ]
  },
  {
   "cell_type": "code",
   "execution_count": 189,
   "metadata": {},
   "outputs": [],
   "source": [
    "fake = Faker()\n",
    "faker = Faker('es_ES')\n",
    "data = []\n"
   ]
  },
  {
   "cell_type": "code",
   "execution_count": 190,
   "metadata": {},
   "outputs": [],
   "source": [
    "cnx = sqlite3.connect(\"bdd_testing.db\") #CONEXION BDD\n",
    "cursor = cnx.cursor()"
   ]
  },
  {
   "cell_type": "code",
   "execution_count": 191,
   "metadata": {},
   "outputs": [],
   "source": [
    "for i in range(10):\n",
    "    id_operacion = random.randint(1000, 2500)\n",
    "    id_proveedor = random.randint(101, 125)\n",
    "    id_pieza = random.randint(1, 35)\n",
    "    id_factura = random.randint(5000, 5050)\n",
    "    fecha = fake.date_this_decade().isoformat()\n",
    "    data.append((id_operacion, id_proveedor, id_pieza, fecha, id_factura))"
   ]
  },
  {
   "cell_type": "code",
   "execution_count": 192,
   "metadata": {},
   "outputs": [
    {
     "data": {
      "text/html": [
       "<div>\n",
       "<style scoped>\n",
       "    .dataframe tbody tr th:only-of-type {\n",
       "        vertical-align: middle;\n",
       "    }\n",
       "\n",
       "    .dataframe tbody tr th {\n",
       "        vertical-align: top;\n",
       "    }\n",
       "\n",
       "    .dataframe thead th {\n",
       "        text-align: right;\n",
       "    }\n",
       "</style>\n",
       "<table border=\"1\" class=\"dataframe\">\n",
       "  <thead>\n",
       "    <tr style=\"text-align: right;\">\n",
       "      <th></th>\n",
       "      <th>id_operacion</th>\n",
       "      <th>id_proveedor</th>\n",
       "      <th>id_pieza</th>\n",
       "      <th>fecha</th>\n",
       "      <th>id_factura</th>\n",
       "    </tr>\n",
       "  </thead>\n",
       "  <tbody>\n",
       "    <tr>\n",
       "      <th>0</th>\n",
       "      <td>2216</td>\n",
       "      <td>114</td>\n",
       "      <td>11</td>\n",
       "      <td>2021-12-30</td>\n",
       "      <td>5037</td>\n",
       "    </tr>\n",
       "    <tr>\n",
       "      <th>1</th>\n",
       "      <td>1526</td>\n",
       "      <td>121</td>\n",
       "      <td>22</td>\n",
       "      <td>2024-07-23</td>\n",
       "      <td>5000</td>\n",
       "    </tr>\n",
       "    <tr>\n",
       "      <th>2</th>\n",
       "      <td>1295</td>\n",
       "      <td>110</td>\n",
       "      <td>17</td>\n",
       "      <td>2024-02-25</td>\n",
       "      <td>5001</td>\n",
       "    </tr>\n",
       "    <tr>\n",
       "      <th>3</th>\n",
       "      <td>1952</td>\n",
       "      <td>120</td>\n",
       "      <td>28</td>\n",
       "      <td>2025-04-09</td>\n",
       "      <td>5049</td>\n",
       "    </tr>\n",
       "    <tr>\n",
       "      <th>4</th>\n",
       "      <td>1229</td>\n",
       "      <td>124</td>\n",
       "      <td>33</td>\n",
       "      <td>2022-04-01</td>\n",
       "      <td>5004</td>\n",
       "    </tr>\n",
       "    <tr>\n",
       "      <th>5</th>\n",
       "      <td>2289</td>\n",
       "      <td>116</td>\n",
       "      <td>11</td>\n",
       "      <td>2024-07-30</td>\n",
       "      <td>5036</td>\n",
       "    </tr>\n",
       "    <tr>\n",
       "      <th>6</th>\n",
       "      <td>1201</td>\n",
       "      <td>110</td>\n",
       "      <td>7</td>\n",
       "      <td>2021-12-17</td>\n",
       "      <td>5021</td>\n",
       "    </tr>\n",
       "    <tr>\n",
       "      <th>7</th>\n",
       "      <td>1184</td>\n",
       "      <td>109</td>\n",
       "      <td>7</td>\n",
       "      <td>2025-04-09</td>\n",
       "      <td>5012</td>\n",
       "    </tr>\n",
       "    <tr>\n",
       "      <th>8</th>\n",
       "      <td>2111</td>\n",
       "      <td>109</td>\n",
       "      <td>31</td>\n",
       "      <td>2024-02-27</td>\n",
       "      <td>5039</td>\n",
       "    </tr>\n",
       "    <tr>\n",
       "      <th>9</th>\n",
       "      <td>1230</td>\n",
       "      <td>109</td>\n",
       "      <td>6</td>\n",
       "      <td>2024-06-09</td>\n",
       "      <td>5039</td>\n",
       "    </tr>\n",
       "  </tbody>\n",
       "</table>\n",
       "</div>"
      ],
      "text/plain": [
       "   id_operacion  id_proveedor  id_pieza       fecha  id_factura\n",
       "0          2216           114        11  2021-12-30        5037\n",
       "1          1526           121        22  2024-07-23        5000\n",
       "2          1295           110        17  2024-02-25        5001\n",
       "3          1952           120        28  2025-04-09        5049\n",
       "4          1229           124        33  2022-04-01        5004\n",
       "5          2289           116        11  2024-07-30        5036\n",
       "6          1201           110         7  2021-12-17        5021\n",
       "7          1184           109         7  2025-04-09        5012\n",
       "8          2111           109        31  2024-02-27        5039\n",
       "9          1230           109         6  2024-06-09        5039"
      ]
     },
     "execution_count": 192,
     "metadata": {},
     "output_type": "execute_result"
    }
   ],
   "source": [
    "df_operaciones = pd.DataFrame(data, columns=['id_operacion', 'id_proveedor', 'id_pieza', 'fecha', 'id_factura'])\n",
    "df_operaciones"
   ]
  },
  {
   "cell_type": "code",
   "execution_count": 193,
   "metadata": {},
   "outputs": [
    {
     "data": {
      "text/plain": [
       "<sqlite3.Cursor at 0x210ad04cbc0>"
      ]
     },
     "execution_count": 193,
     "metadata": {},
     "output_type": "execute_result"
    }
   ],
   "source": [
    "    cursor.execute(\"DROP TABLE IF EXISTS operaciones\")\n",
    "\n",
    " \n",
    "    cursor.execute(\"\"\"\n",
    "    CREATE TABLE operaciones (\n",
    "        id_operacion INTEGER PRIMARY KEY,\n",
    "        id_proveedor INTEGER,\n",
    "        id_pieza INTEGER,\n",
    "        fecha TEXT,\n",
    "        id_factura INTEGER\n",
    "    )\n",
    "    \"\"\")"
   ]
  },
  {
   "cell_type": "code",
   "execution_count": 194,
   "metadata": {},
   "outputs": [
    {
     "name": "stdout",
     "output_type": "stream",
     "text": [
      "\n",
      "Datos cargados correctamente en bdd_new.db.\n"
     ]
    }
   ],
   "source": [
    "df_operaciones.to_sql('operaciones', cnx, if_exists='append', index=False)\n",
    "print(\"\\nDatos cargados correctamente en bdd_new.db.\")"
   ]
  },
  {
   "cell_type": "code",
   "execution_count": 199,
   "metadata": {},
   "outputs": [
    {
     "data": {
      "text/html": [
       "<div>\n",
       "<style scoped>\n",
       "    .dataframe tbody tr th:only-of-type {\n",
       "        vertical-align: middle;\n",
       "    }\n",
       "\n",
       "    .dataframe tbody tr th {\n",
       "        vertical-align: top;\n",
       "    }\n",
       "\n",
       "    .dataframe thead th {\n",
       "        text-align: right;\n",
       "    }\n",
       "</style>\n",
       "<table border=\"1\" class=\"dataframe\">\n",
       "  <thead>\n",
       "    <tr style=\"text-align: right;\">\n",
       "      <th></th>\n",
       "      <th>id_operacion</th>\n",
       "      <th>id_proveedor</th>\n",
       "      <th>id_pieza</th>\n",
       "      <th>fecha</th>\n",
       "      <th>id_factura</th>\n",
       "    </tr>\n",
       "  </thead>\n",
       "  <tbody>\n",
       "    <tr>\n",
       "      <th>0</th>\n",
       "      <td>1184</td>\n",
       "      <td>109</td>\n",
       "      <td>7</td>\n",
       "      <td>2025-04-09</td>\n",
       "      <td>5012</td>\n",
       "    </tr>\n",
       "    <tr>\n",
       "      <th>1</th>\n",
       "      <td>1201</td>\n",
       "      <td>110</td>\n",
       "      <td>7</td>\n",
       "      <td>2021-12-17</td>\n",
       "      <td>5021</td>\n",
       "    </tr>\n",
       "    <tr>\n",
       "      <th>2</th>\n",
       "      <td>1230</td>\n",
       "      <td>109</td>\n",
       "      <td>6</td>\n",
       "      <td>2024-06-09</td>\n",
       "      <td>5039</td>\n",
       "    </tr>\n",
       "    <tr>\n",
       "      <th>3</th>\n",
       "      <td>1952</td>\n",
       "      <td>120</td>\n",
       "      <td>28</td>\n",
       "      <td>2025-04-09</td>\n",
       "      <td>5049</td>\n",
       "    </tr>\n",
       "    <tr>\n",
       "      <th>4</th>\n",
       "      <td>2111</td>\n",
       "      <td>109</td>\n",
       "      <td>31</td>\n",
       "      <td>2024-02-27</td>\n",
       "      <td>5039</td>\n",
       "    </tr>\n",
       "    <tr>\n",
       "      <th>5</th>\n",
       "      <td>2216</td>\n",
       "      <td>114</td>\n",
       "      <td>11</td>\n",
       "      <td>2021-12-30</td>\n",
       "      <td>5037</td>\n",
       "    </tr>\n",
       "    <tr>\n",
       "      <th>6</th>\n",
       "      <td>2289</td>\n",
       "      <td>116</td>\n",
       "      <td>11</td>\n",
       "      <td>2024-07-30</td>\n",
       "      <td>5036</td>\n",
       "    </tr>\n",
       "  </tbody>\n",
       "</table>\n",
       "</div>"
      ],
      "text/plain": [
       "   id_operacion  id_proveedor  id_pieza       fecha  id_factura\n",
       "0          1184           109         7  2025-04-09        5012\n",
       "1          1201           110         7  2021-12-17        5021\n",
       "2          1230           109         6  2024-06-09        5039\n",
       "3          1952           120        28  2025-04-09        5049\n",
       "4          2111           109        31  2024-02-27        5039\n",
       "5          2216           114        11  2021-12-30        5037\n",
       "6          2289           116        11  2024-07-30        5036"
      ]
     },
     "execution_count": 199,
     "metadata": {},
     "output_type": "execute_result"
    }
   ],
   "source": [
    "#PRUEBA DE QUE FUNCIONA \n",
    "\n",
    "query = ''' \n",
    "SELECT *\n",
    "FROM operaciones\n",
    "WHERE id_factura > 5010\n",
    "'''\n",
    "pd.read_sql(query, cnx)"
   ]
  },
  {
   "cell_type": "code",
   "execution_count": 187,
   "metadata": {},
   "outputs": [],
   "source": [
    "cnx.close() #CIERRE CONEXTION"
   ]
  },
  {
   "cell_type": "code",
   "execution_count": null,
   "metadata": {},
   "outputs": [],
   "source": [
    "with sqlite3.connect(\"bdd_testing.db\") as cnx: #CHECK BDD\n",
    "    cursor = cnx.cursor()"
   ]
  }
 ],
 "metadata": {
  "kernelspec": {
   "display_name": "base",
   "language": "python",
   "name": "python3"
  },
  "language_info": {
   "codemirror_mode": {
    "name": "ipython",
    "version": 3
   },
   "file_extension": ".py",
   "mimetype": "text/x-python",
   "name": "python",
   "nbconvert_exporter": "python",
   "pygments_lexer": "ipython3",
   "version": "3.12.7"
  }
 },
 "nbformat": 4,
 "nbformat_minor": 2
}
