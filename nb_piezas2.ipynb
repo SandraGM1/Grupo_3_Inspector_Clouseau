{
 "cells": [
  {
   "cell_type": "code",
   "execution_count": 12,
   "metadata": {},
   "outputs": [
    {
     "name": "stdout",
     "output_type": "stream",
     "text": [
      "Requirement already satisfied: Faker in /Library/Frameworks/Python.framework/Versions/3.13/lib/python3.13/site-packages (37.1.0)\n",
      "Requirement already satisfied: tzdata in /Library/Frameworks/Python.framework/Versions/3.13/lib/python3.13/site-packages (from Faker) (2025.2)\n",
      "Note: you may need to restart the kernel to use updated packages.\n"
     ]
    }
   ],
   "source": [
    "pip install Faker\n"
   ]
  },
  {
   "cell_type": "code",
   "execution_count": 13,
   "metadata": {},
   "outputs": [],
   "source": [
    "import sqlite3\n",
    "from faker import Faker\n",
    "import random\n",
    "import pandas as pd"
   ]
  },
  {
   "cell_type": "code",
   "execution_count": 14,
   "metadata": {},
   "outputs": [],
   "source": [
    "cnx = sqlite3.connect(\"base_datos_proveedores.db\")"
   ]
  },
  {
   "cell_type": "code",
   "execution_count": 15,
   "metadata": {},
   "outputs": [],
   "source": [
    "cursor_prov = cnx.cursor()"
   ]
  },
  {
   "cell_type": "code",
   "execution_count": 74,
   "metadata": {},
   "outputs": [
    {
     "data": {
      "text/plain": [
       "<sqlite3.Cursor at 0x10a47b5c0>"
      ]
     },
     "execution_count": 74,
     "metadata": {},
     "output_type": "execute_result"
    }
   ],
   "source": [
    "cursor_prov.execute(\"DELETE FROM pieza\")"
   ]
  },
  {
   "cell_type": "code",
   "execution_count": 16,
   "metadata": {},
   "outputs": [
    {
     "data": {
      "text/plain": [
       "<sqlite3.Cursor at 0x1131b9b40>"
      ]
     },
     "execution_count": 16,
     "metadata": {},
     "output_type": "execute_result"
    }
   ],
   "source": [
    "# Crear tabla \"pieza\"\n",
    "query = '''\n",
    "CREATE TABLE IF NOT EXISTS pieza (\n",
    "    id INTEGER PRIMARY KEY AUTOINCREMENT,\n",
    "    nombre TEXT,\n",
    "    codigo_pieza TEXT,\n",
    "    color TEXT,\n",
    "    precio REAL,\n",
    "    categoria TEXT\n",
    ")\n",
    "'''\n",
    "cursor_prov.execute(query)"
   ]
  },
  {
   "cell_type": "code",
   "execution_count": 17,
   "metadata": {},
   "outputs": [],
   "source": [
    "faker = Faker('es_ES')"
   ]
  },
  {
   "cell_type": "code",
   "execution_count": 18,
   "metadata": {},
   "outputs": [],
   "source": [
    "# Lista de nombres de piezas de coche\n",
    "nombres_piezas = [\n",
    "    \"Filtro de aceite\", \"Batería\", \"Bujía\", \"Radiador\", \"Alternador\", \"Amortiguador\",\n",
    "    \"Disco de freno\", \"Pastilla de freno\", \"Parachoques\", \"Espejo retrovisor\",\n",
    "    \"Faro delantero\", \"Faro trasero\", \"Escape\", \"Embrague\", \"Caja de cambios\",\n",
    "    \"Motor\", \"Correa de distribución\", \"Inyector\", \"Turbocompresor\", \"Compresor de aire\",\n",
    "    \"Sensor de oxígeno\", \"Ventilador\", \"Depósito de combustible\", \"Volante\", \"Airbag\",\n",
    "    \"Palanca de cambios\", \"Pedal de freno\", \"Carter\", \"Eje\", \"Llanta\"\n",
    "]"
   ]
  },
  {
   "cell_type": "code",
   "execution_count": 19,
   "metadata": {},
   "outputs": [],
   "source": [
    "categorias_piezas_coche = [\"Motor\",\"Suspensión\",\"Frenos\",\"Transmisión\",\"Escape\",\"Refrigeración\",\"Electrónica\",\"Iluminación\",\"Carrocería\",\"Neumáticos\"]\n",
    "colores = ['Rojo', 'Azul', 'Verde', 'Amarillo', 'Negro', 'Blanco', 'Gris', 'Naranja','Marrón', 'Blanco', 'Plateado' ]"
   ]
  },
  {
   "cell_type": "code",
   "execution_count": 20,
   "metadata": {},
   "outputs": [
    {
     "name": "stdout",
     "output_type": "stream",
     "text": [
      "codigo_pieza: iP-30741, nombre: Faro trasero\n"
     ]
    }
   ],
   "source": [
    "piezas_info_list = []\n",
    "\n",
    "for _ in range(30):\n",
    "    nombre = random.choice(nombres_piezas).capitalize()\n",
    "    codigo_pieza = faker.bothify(text='??-#####')\n",
    "    color = random.choice(colores)\n",
    "    precio = round(random.uniform(5.0, 1000.0), 2)\n",
    "    categoria = random.choice(categorias_piezas_coche)\n",
    "\n",
    "    piezas_info_list.append((nombre, codigo_pieza,color,precio, categoria ))\n",
    "\n",
    "    cursor_prov.execute('''\n",
    "    INSERT INTO pieza (nombre, codigo_pieza, color, precio, categoria)\n",
    "    VALUES (?, ?, ?, ?, ?)\n",
    "    ''', (nombre, codigo_pieza, color, precio, categoria))\n",
    "\n",
    "    \n",
    "print(f\"codigo_pieza: {codigo_pieza}, nombre: {nombre}\")\n",
    "    "
   ]
  },
  {
   "cell_type": "code",
   "execution_count": 21,
   "metadata": {},
   "outputs": [
    {
     "data": {
      "text/plain": [
       "[('Sensor de oxígeno', 'SY-73906', 'Gris', 12.29, 'Suspensión'),\n",
       " ('Parachoques', 'Rn-13218', 'Amarillo', 594.22, 'Suspensión'),\n",
       " ('Filtro de aceite', 'FY-92743', 'Blanco', 73.69, 'Escape'),\n",
       " ('Filtro de aceite', 'In-80744', 'Naranja', 775.84, 'Carrocería'),\n",
       " ('Eje', 'rO-20766', 'Plateado', 279.22, 'Carrocería'),\n",
       " ('Escape', 'ce-95425', 'Verde', 421.61, 'Transmisión'),\n",
       " ('Inyector', 'JS-96500', 'Plateado', 860.97, 'Suspensión'),\n",
       " ('Caja de cambios', 'sr-86564', 'Blanco', 308.53, 'Transmisión'),\n",
       " ('Bujía', 'Fq-51199', 'Azul', 987.66, 'Suspensión'),\n",
       " ('Faro trasero', 'CF-79536', 'Verde', 701.2, 'Suspensión'),\n",
       " ('Correa de distribución', 'Jw-15638', 'Amarillo', 618.71, 'Transmisión'),\n",
       " ('Alternador', 'KU-16440', 'Blanco', 454.12, 'Frenos'),\n",
       " ('Embrague', 'nK-16677', 'Verde', 17.84, 'Iluminación'),\n",
       " ('Pedal de freno', 'hG-57821', 'Blanco', 580.12, 'Transmisión'),\n",
       " ('Bujía', 'uL-41150', 'Amarillo', 432.47, 'Transmisión'),\n",
       " ('Faro trasero', 'lB-76015', 'Gris', 290.32, 'Carrocería'),\n",
       " ('Airbag', 'RA-32954', 'Rojo', 828.72, 'Frenos'),\n",
       " ('Caja de cambios', 'PN-11986', 'Blanco', 271.24, 'Suspensión'),\n",
       " ('Faro delantero', 'Bk-46475', 'Azul', 310.7, 'Escape'),\n",
       " ('Volante', 'ww-39220', 'Blanco', 738.24, 'Escape'),\n",
       " ('Faro delantero', 'Yr-38431', 'Gris', 130.86, 'Frenos'),\n",
       " ('Depósito de combustible', 'yu-46001', 'Verde', 736.46, 'Refrigeración'),\n",
       " ('Faro delantero', 'Xx-06162', 'Plateado', 898.03, 'Frenos'),\n",
       " ('Pedal de freno', 'oK-94168', 'Negro', 703.74, 'Suspensión'),\n",
       " ('Compresor de aire', 'ba-37114', 'Plateado', 897.94, 'Refrigeración'),\n",
       " ('Carter', 'gf-67070', 'Marrón', 422.51, 'Iluminación'),\n",
       " ('Espejo retrovisor', 'kT-83213', 'Verde', 761.23, 'Neumáticos'),\n",
       " ('Pedal de freno', 'mb-68333', 'Rojo', 785.72, 'Motor'),\n",
       " ('Alternador', 'Ph-54815', 'Gris', 895.89, 'Frenos'),\n",
       " ('Faro trasero', 'iP-30741', 'Verde', 330.4, 'Transmisión')]"
      ]
     },
     "execution_count": 21,
     "metadata": {},
     "output_type": "execute_result"
    }
   ],
   "source": [
    "piezas_info_list "
   ]
  },
  {
   "cell_type": "code",
   "execution_count": null,
   "metadata": {},
   "outputs": [
    {
     "data": {
      "text/plain": [
       "<sqlite3.Cursor at 0x10a47b5c0>"
      ]
     },
     "execution_count": 54,
     "metadata": {},
     "output_type": "execute_result"
    }
   ],
   "source": []
  },
  {
   "cell_type": "code",
   "execution_count": 22,
   "metadata": {},
   "outputs": [
    {
     "data": {
      "text/html": [
       "<div>\n",
       "<style scoped>\n",
       "    .dataframe tbody tr th:only-of-type {\n",
       "        vertical-align: middle;\n",
       "    }\n",
       "\n",
       "    .dataframe tbody tr th {\n",
       "        vertical-align: top;\n",
       "    }\n",
       "\n",
       "    .dataframe thead th {\n",
       "        text-align: right;\n",
       "    }\n",
       "</style>\n",
       "<table border=\"1\" class=\"dataframe\">\n",
       "  <thead>\n",
       "    <tr style=\"text-align: right;\">\n",
       "      <th></th>\n",
       "      <th>nombre</th>\n",
       "    </tr>\n",
       "  </thead>\n",
       "  <tbody>\n",
       "    <tr>\n",
       "      <th>0</th>\n",
       "      <td>Sensor de oxígeno</td>\n",
       "    </tr>\n",
       "    <tr>\n",
       "      <th>1</th>\n",
       "      <td>Parachoques</td>\n",
       "    </tr>\n",
       "    <tr>\n",
       "      <th>2</th>\n",
       "      <td>Filtro de aceite</td>\n",
       "    </tr>\n",
       "    <tr>\n",
       "      <th>3</th>\n",
       "      <td>Filtro de aceite</td>\n",
       "    </tr>\n",
       "    <tr>\n",
       "      <th>4</th>\n",
       "      <td>Eje</td>\n",
       "    </tr>\n",
       "    <tr>\n",
       "      <th>5</th>\n",
       "      <td>Escape</td>\n",
       "    </tr>\n",
       "    <tr>\n",
       "      <th>6</th>\n",
       "      <td>Inyector</td>\n",
       "    </tr>\n",
       "    <tr>\n",
       "      <th>7</th>\n",
       "      <td>Caja de cambios</td>\n",
       "    </tr>\n",
       "    <tr>\n",
       "      <th>8</th>\n",
       "      <td>Bujía</td>\n",
       "    </tr>\n",
       "    <tr>\n",
       "      <th>9</th>\n",
       "      <td>Faro trasero</td>\n",
       "    </tr>\n",
       "    <tr>\n",
       "      <th>10</th>\n",
       "      <td>Correa de distribución</td>\n",
       "    </tr>\n",
       "    <tr>\n",
       "      <th>11</th>\n",
       "      <td>Alternador</td>\n",
       "    </tr>\n",
       "    <tr>\n",
       "      <th>12</th>\n",
       "      <td>Embrague</td>\n",
       "    </tr>\n",
       "    <tr>\n",
       "      <th>13</th>\n",
       "      <td>Pedal de freno</td>\n",
       "    </tr>\n",
       "    <tr>\n",
       "      <th>14</th>\n",
       "      <td>Bujía</td>\n",
       "    </tr>\n",
       "    <tr>\n",
       "      <th>15</th>\n",
       "      <td>Faro trasero</td>\n",
       "    </tr>\n",
       "    <tr>\n",
       "      <th>16</th>\n",
       "      <td>Airbag</td>\n",
       "    </tr>\n",
       "    <tr>\n",
       "      <th>17</th>\n",
       "      <td>Caja de cambios</td>\n",
       "    </tr>\n",
       "    <tr>\n",
       "      <th>18</th>\n",
       "      <td>Faro delantero</td>\n",
       "    </tr>\n",
       "    <tr>\n",
       "      <th>19</th>\n",
       "      <td>Volante</td>\n",
       "    </tr>\n",
       "    <tr>\n",
       "      <th>20</th>\n",
       "      <td>Faro delantero</td>\n",
       "    </tr>\n",
       "    <tr>\n",
       "      <th>21</th>\n",
       "      <td>Depósito de combustible</td>\n",
       "    </tr>\n",
       "    <tr>\n",
       "      <th>22</th>\n",
       "      <td>Faro delantero</td>\n",
       "    </tr>\n",
       "    <tr>\n",
       "      <th>23</th>\n",
       "      <td>Pedal de freno</td>\n",
       "    </tr>\n",
       "    <tr>\n",
       "      <th>24</th>\n",
       "      <td>Compresor de aire</td>\n",
       "    </tr>\n",
       "    <tr>\n",
       "      <th>25</th>\n",
       "      <td>Carter</td>\n",
       "    </tr>\n",
       "    <tr>\n",
       "      <th>26</th>\n",
       "      <td>Espejo retrovisor</td>\n",
       "    </tr>\n",
       "    <tr>\n",
       "      <th>27</th>\n",
       "      <td>Pedal de freno</td>\n",
       "    </tr>\n",
       "    <tr>\n",
       "      <th>28</th>\n",
       "      <td>Alternador</td>\n",
       "    </tr>\n",
       "    <tr>\n",
       "      <th>29</th>\n",
       "      <td>Faro trasero</td>\n",
       "    </tr>\n",
       "  </tbody>\n",
       "</table>\n",
       "</div>"
      ],
      "text/plain": [
       "                     nombre\n",
       "0         Sensor de oxígeno\n",
       "1               Parachoques\n",
       "2          Filtro de aceite\n",
       "3          Filtro de aceite\n",
       "4                       Eje\n",
       "5                    Escape\n",
       "6                  Inyector\n",
       "7           Caja de cambios\n",
       "8                     Bujía\n",
       "9              Faro trasero\n",
       "10   Correa de distribución\n",
       "11               Alternador\n",
       "12                 Embrague\n",
       "13           Pedal de freno\n",
       "14                    Bujía\n",
       "15             Faro trasero\n",
       "16                   Airbag\n",
       "17          Caja de cambios\n",
       "18           Faro delantero\n",
       "19                  Volante\n",
       "20           Faro delantero\n",
       "21  Depósito de combustible\n",
       "22           Faro delantero\n",
       "23           Pedal de freno\n",
       "24        Compresor de aire\n",
       "25                   Carter\n",
       "26        Espejo retrovisor\n",
       "27           Pedal de freno\n",
       "28               Alternador\n",
       "29             Faro trasero"
      ]
     },
     "execution_count": 22,
     "metadata": {},
     "output_type": "execute_result"
    }
   ],
   "source": [
    "query = ''' \n",
    "SELECT nombre\n",
    "FROM pieza\n",
    "'''\n",
    "pd.read_sql(query, cnx)"
   ]
  },
  {
   "cell_type": "code",
   "execution_count": 23,
   "metadata": {},
   "outputs": [
    {
     "data": {
      "text/html": [
       "<div>\n",
       "<style scoped>\n",
       "    .dataframe tbody tr th:only-of-type {\n",
       "        vertical-align: middle;\n",
       "    }\n",
       "\n",
       "    .dataframe tbody tr th {\n",
       "        vertical-align: top;\n",
       "    }\n",
       "\n",
       "    .dataframe thead th {\n",
       "        text-align: right;\n",
       "    }\n",
       "</style>\n",
       "<table border=\"1\" class=\"dataframe\">\n",
       "  <thead>\n",
       "    <tr style=\"text-align: right;\">\n",
       "      <th></th>\n",
       "      <th>type</th>\n",
       "      <th>name</th>\n",
       "      <th>tbl_name</th>\n",
       "      <th>rootpage</th>\n",
       "      <th>sql</th>\n",
       "    </tr>\n",
       "  </thead>\n",
       "  <tbody>\n",
       "    <tr>\n",
       "      <th>0</th>\n",
       "      <td>table</td>\n",
       "      <td>proveedores</td>\n",
       "      <td>proveedores</td>\n",
       "      <td>2</td>\n",
       "      <td>CREATE TABLE proveedores (\\nid_proveedor INT P...</td>\n",
       "    </tr>\n",
       "    <tr>\n",
       "      <th>1</th>\n",
       "      <td>table</td>\n",
       "      <td>piezas</td>\n",
       "      <td>piezas</td>\n",
       "      <td>4</td>\n",
       "      <td>CREATE TABLE piezas (\\nid_pieza INT PRIMARY KE...</td>\n",
       "    </tr>\n",
       "    <tr>\n",
       "      <th>2</th>\n",
       "      <td>table</td>\n",
       "      <td>categoria_pieza</td>\n",
       "      <td>categoria_pieza</td>\n",
       "      <td>6</td>\n",
       "      <td>CREATE TABLE categoria_pieza (\\nid_categoria I...</td>\n",
       "    </tr>\n",
       "    <tr>\n",
       "      <th>3</th>\n",
       "      <td>table</td>\n",
       "      <td>operaciones</td>\n",
       "      <td>operaciones</td>\n",
       "      <td>8</td>\n",
       "      <td>CREATE TABLE operaciones (\\nid_operacion INT P...</td>\n",
       "    </tr>\n",
       "    <tr>\n",
       "      <th>4</th>\n",
       "      <td>table</td>\n",
       "      <td>facturas</td>\n",
       "      <td>facturas</td>\n",
       "      <td>10</td>\n",
       "      <td>CREATE TABLE facturas (\\nid_factura INT PRIMAR...</td>\n",
       "    </tr>\n",
       "    <tr>\n",
       "      <th>5</th>\n",
       "      <td>table</td>\n",
       "      <td>pieza</td>\n",
       "      <td>pieza</td>\n",
       "      <td>12</td>\n",
       "      <td>CREATE TABLE pieza (\\n    id INTEGER PRIMARY K...</td>\n",
       "    </tr>\n",
       "    <tr>\n",
       "      <th>6</th>\n",
       "      <td>table</td>\n",
       "      <td>sqlite_sequence</td>\n",
       "      <td>sqlite_sequence</td>\n",
       "      <td>13</td>\n",
       "      <td>CREATE TABLE sqlite_sequence(name,seq)</td>\n",
       "    </tr>\n",
       "  </tbody>\n",
       "</table>\n",
       "</div>"
      ],
      "text/plain": [
       "    type             name         tbl_name  rootpage  \\\n",
       "0  table      proveedores      proveedores         2   \n",
       "1  table           piezas           piezas         4   \n",
       "2  table  categoria_pieza  categoria_pieza         6   \n",
       "3  table      operaciones      operaciones         8   \n",
       "4  table         facturas         facturas        10   \n",
       "5  table            pieza            pieza        12   \n",
       "6  table  sqlite_sequence  sqlite_sequence        13   \n",
       "\n",
       "                                                 sql  \n",
       "0  CREATE TABLE proveedores (\\nid_proveedor INT P...  \n",
       "1  CREATE TABLE piezas (\\nid_pieza INT PRIMARY KE...  \n",
       "2  CREATE TABLE categoria_pieza (\\nid_categoria I...  \n",
       "3  CREATE TABLE operaciones (\\nid_operacion INT P...  \n",
       "4  CREATE TABLE facturas (\\nid_factura INT PRIMAR...  \n",
       "5  CREATE TABLE pieza (\\n    id INTEGER PRIMARY K...  \n",
       "6             CREATE TABLE sqlite_sequence(name,seq)  "
      ]
     },
     "execution_count": 23,
     "metadata": {},
     "output_type": "execute_result"
    }
   ],
   "source": [
    "query = ''' \n",
    "SELECT *\n",
    "FROM sqlite_master\n",
    "WHERE type = \"table\"\n",
    "'''\n",
    "pd.read_sql(query, cnx)"
   ]
  },
  {
   "cell_type": "code",
   "execution_count": 64,
   "metadata": {},
   "outputs": [
    {
     "data": {
      "text/plain": [
       "<sqlite3.Cursor at 0x10a47b5c0>"
      ]
     },
     "execution_count": 64,
     "metadata": {},
     "output_type": "execute_result"
    }
   ],
   "source": [
    "cursor_prov.execute(\"DROP TABLE IF EXISTS piezas\")"
   ]
  },
  {
   "cell_type": "code",
   "execution_count": 24,
   "metadata": {},
   "outputs": [
    {
     "data": {
      "text/html": [
       "<div>\n",
       "<style scoped>\n",
       "    .dataframe tbody tr th:only-of-type {\n",
       "        vertical-align: middle;\n",
       "    }\n",
       "\n",
       "    .dataframe tbody tr th {\n",
       "        vertical-align: top;\n",
       "    }\n",
       "\n",
       "    .dataframe thead th {\n",
       "        text-align: right;\n",
       "    }\n",
       "</style>\n",
       "<table border=\"1\" class=\"dataframe\">\n",
       "  <thead>\n",
       "    <tr style=\"text-align: right;\">\n",
       "      <th></th>\n",
       "      <th>type</th>\n",
       "      <th>name</th>\n",
       "      <th>tbl_name</th>\n",
       "      <th>rootpage</th>\n",
       "      <th>sql</th>\n",
       "    </tr>\n",
       "  </thead>\n",
       "  <tbody>\n",
       "    <tr>\n",
       "      <th>0</th>\n",
       "      <td>table</td>\n",
       "      <td>proveedores</td>\n",
       "      <td>proveedores</td>\n",
       "      <td>2</td>\n",
       "      <td>CREATE TABLE proveedores (\\nid_proveedor INT P...</td>\n",
       "    </tr>\n",
       "    <tr>\n",
       "      <th>1</th>\n",
       "      <td>table</td>\n",
       "      <td>piezas</td>\n",
       "      <td>piezas</td>\n",
       "      <td>4</td>\n",
       "      <td>CREATE TABLE piezas (\\nid_pieza INT PRIMARY KE...</td>\n",
       "    </tr>\n",
       "    <tr>\n",
       "      <th>2</th>\n",
       "      <td>table</td>\n",
       "      <td>categoria_pieza</td>\n",
       "      <td>categoria_pieza</td>\n",
       "      <td>6</td>\n",
       "      <td>CREATE TABLE categoria_pieza (\\nid_categoria I...</td>\n",
       "    </tr>\n",
       "    <tr>\n",
       "      <th>3</th>\n",
       "      <td>table</td>\n",
       "      <td>operaciones</td>\n",
       "      <td>operaciones</td>\n",
       "      <td>8</td>\n",
       "      <td>CREATE TABLE operaciones (\\nid_operacion INT P...</td>\n",
       "    </tr>\n",
       "    <tr>\n",
       "      <th>4</th>\n",
       "      <td>table</td>\n",
       "      <td>facturas</td>\n",
       "      <td>facturas</td>\n",
       "      <td>10</td>\n",
       "      <td>CREATE TABLE facturas (\\nid_factura INT PRIMAR...</td>\n",
       "    </tr>\n",
       "    <tr>\n",
       "      <th>5</th>\n",
       "      <td>table</td>\n",
       "      <td>pieza</td>\n",
       "      <td>pieza</td>\n",
       "      <td>12</td>\n",
       "      <td>CREATE TABLE pieza (\\n    id INTEGER PRIMARY K...</td>\n",
       "    </tr>\n",
       "    <tr>\n",
       "      <th>6</th>\n",
       "      <td>table</td>\n",
       "      <td>sqlite_sequence</td>\n",
       "      <td>sqlite_sequence</td>\n",
       "      <td>13</td>\n",
       "      <td>CREATE TABLE sqlite_sequence(name,seq)</td>\n",
       "    </tr>\n",
       "  </tbody>\n",
       "</table>\n",
       "</div>"
      ],
      "text/plain": [
       "    type             name         tbl_name  rootpage  \\\n",
       "0  table      proveedores      proveedores         2   \n",
       "1  table           piezas           piezas         4   \n",
       "2  table  categoria_pieza  categoria_pieza         6   \n",
       "3  table      operaciones      operaciones         8   \n",
       "4  table         facturas         facturas        10   \n",
       "5  table            pieza            pieza        12   \n",
       "6  table  sqlite_sequence  sqlite_sequence        13   \n",
       "\n",
       "                                                 sql  \n",
       "0  CREATE TABLE proveedores (\\nid_proveedor INT P...  \n",
       "1  CREATE TABLE piezas (\\nid_pieza INT PRIMARY KE...  \n",
       "2  CREATE TABLE categoria_pieza (\\nid_categoria I...  \n",
       "3  CREATE TABLE operaciones (\\nid_operacion INT P...  \n",
       "4  CREATE TABLE facturas (\\nid_factura INT PRIMAR...  \n",
       "5  CREATE TABLE pieza (\\n    id INTEGER PRIMARY K...  \n",
       "6             CREATE TABLE sqlite_sequence(name,seq)  "
      ]
     },
     "execution_count": 24,
     "metadata": {},
     "output_type": "execute_result"
    }
   ],
   "source": [
    "query = ''' \n",
    "SELECT *\n",
    "FROM sqlite_master\n",
    "WHERE type = \"table\"\n",
    "'''\n",
    "pd.read_sql(query, cnx)"
   ]
  },
  {
   "cell_type": "code",
   "execution_count": 25,
   "metadata": {},
   "outputs": [],
   "source": [
    "cnx.commit()\n",
    "\n"
   ]
  }
 ],
 "metadata": {
  "kernelspec": {
   "display_name": "Python 3",
   "language": "python",
   "name": "python3"
  },
  "language_info": {
   "codemirror_mode": {
    "name": "ipython",
    "version": 3
   },
   "file_extension": ".py",
   "mimetype": "text/x-python",
   "name": "python",
   "nbconvert_exporter": "python",
   "pygments_lexer": "ipython3",
   "version": "3.13.3"
  }
 },
 "nbformat": 4,
 "nbformat_minor": 2
}
