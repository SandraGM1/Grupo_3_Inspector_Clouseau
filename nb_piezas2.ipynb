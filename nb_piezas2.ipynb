{
 "cells": [
  {
   "cell_type": "code",
   "execution_count": 2,
   "metadata": {},
   "outputs": [
    {
     "name": "stdout",
     "output_type": "stream",
     "text": [
      "Collecting Faker\n",
      "  Downloading faker-37.1.0-py3-none-any.whl.metadata (15 kB)\n",
      "Requirement already satisfied: tzdata in /Library/Frameworks/Python.framework/Versions/3.13/lib/python3.13/site-packages (from Faker) (2025.2)\n",
      "Downloading faker-37.1.0-py3-none-any.whl (1.9 MB)\n",
      "\u001b[2K   \u001b[90m━━━━━━━━━━━━━━━━━━━━━━━━━━━━━━━━━━━━━━━━\u001b[0m \u001b[32m1.9/1.9 MB\u001b[0m \u001b[31m902.6 kB/s\u001b[0m eta \u001b[36m0:00:00\u001b[0ma \u001b[36m0:00:01\u001b[0m\n",
      "\u001b[?25hInstalling collected packages: Faker\n",
      "Successfully installed Faker-37.1.0\n",
      "Note: you may need to restart the kernel to use updated packages.\n"
     ]
    }
   ],
   "source": [
    "pip install Faker\n"
   ]
  },
  {
   "cell_type": "code",
   "execution_count": 9,
   "metadata": {},
   "outputs": [],
   "source": [
    "import sqlite3\n",
    "from faker import Faker\n",
    "import random\n",
    "import pandas as pd"
   ]
  },
  {
   "cell_type": "code",
   "execution_count": 4,
   "metadata": {},
   "outputs": [],
   "source": [
    "cnx = sqlite3.connect(\"base_datos_proveedores.db\")"
   ]
  },
  {
   "cell_type": "code",
   "execution_count": 5,
   "metadata": {},
   "outputs": [],
   "source": [
    "cursor_prov = cnx.cursor()"
   ]
  },
  {
   "cell_type": "code",
   "execution_count": 74,
   "metadata": {},
   "outputs": [
    {
     "data": {
      "text/plain": [
       "<sqlite3.Cursor at 0x10a47b5c0>"
      ]
     },
     "execution_count": 74,
     "metadata": {},
     "output_type": "execute_result"
    }
   ],
   "source": [
    "cursor_prov.execute(\"DELETE FROM pieza\")"
   ]
  },
  {
   "cell_type": "code",
   "execution_count": 75,
   "metadata": {},
   "outputs": [
    {
     "data": {
      "text/plain": [
       "<sqlite3.Cursor at 0x10a47b5c0>"
      ]
     },
     "execution_count": 75,
     "metadata": {},
     "output_type": "execute_result"
    }
   ],
   "source": [
    "# Crear tabla \"pieza\"\n",
    "query = '''\n",
    "CREATE TABLE IF NOT EXISTS pieza (\n",
    "    id INTEGER PRIMARY KEY AUTOINCREMENT,\n",
    "    nombre TEXT,\n",
    "    codigo_pieza TEXT,\n",
    "    color TEXT,\n",
    "    precio REAL,\n",
    "    categoria TEXT\n",
    ")\n",
    "'''\n",
    "cursor_prov.execute(query)"
   ]
  },
  {
   "cell_type": "code",
   "execution_count": 76,
   "metadata": {},
   "outputs": [],
   "source": [
    "faker = Faker('es_ES')"
   ]
  },
  {
   "cell_type": "code",
   "execution_count": 77,
   "metadata": {},
   "outputs": [],
   "source": [
    "# Lista de nombres de piezas de coche\n",
    "nombres_piezas = [\n",
    "    \"Filtro de aceite\", \"Batería\", \"Bujía\", \"Radiador\", \"Alternador\", \"Amortiguador\",\n",
    "    \"Disco de freno\", \"Pastilla de freno\", \"Parachoques\", \"Espejo retrovisor\",\n",
    "    \"Faro delantero\", \"Faro trasero\", \"Escape\", \"Embrague\", \"Caja de cambios\",\n",
    "    \"Motor\", \"Correa de distribución\", \"Inyector\", \"Turbocompresor\", \"Compresor de aire\",\n",
    "    \"Sensor de oxígeno\", \"Ventilador\", \"Depósito de combustible\", \"Volante\", \"Airbag\",\n",
    "    \"Palanca de cambios\", \"Pedal de freno\", \"Carter\", \"Eje\", \"Llanta\"\n",
    "]"
   ]
  },
  {
   "cell_type": "code",
   "execution_count": 78,
   "metadata": {},
   "outputs": [],
   "source": [
    "categorias_piezas_coche = [\"Motor\",\"Suspensión\",\"Frenos\",\"Transmisión\",\"Escape\",\"Refrigeración\",\"Electrónica\",\"Iluminación\",\"Carrocería\",\"Neumáticos\"]\n",
    "colores = ['Rojo', 'Azul', 'Verde', 'Amarillo', 'Negro', 'Blanco', 'Gris', 'Naranja','Marrón', 'Blanco', 'Plateado' ]"
   ]
  },
  {
   "cell_type": "code",
   "execution_count": 79,
   "metadata": {},
   "outputs": [
    {
     "name": "stdout",
     "output_type": "stream",
     "text": [
      "codigo_pieza: Ys-60923, nombre: Amortiguador\n"
     ]
    }
   ],
   "source": [
    "piezas_info_list = []\n",
    "\n",
    "for _ in range(30):\n",
    "    nombre = random.choice(nombres_piezas).capitalize()\n",
    "    codigo_pieza = faker.bothify(text='??-#####')\n",
    "    color = random.choice(colores)\n",
    "    precio = round(random.uniform(5.0, 1000.0), 2)\n",
    "    categoria = random.choice(categorias_piezas_coche)\n",
    "\n",
    "    piezas_info_list.append((nombre, codigo_pieza,color,precio, categoria ))\n",
    "\n",
    "    cursor_prov.execute('''\n",
    "    INSERT INTO pieza (nombre, codigo_pieza, color, precio, categoria)\n",
    "    VALUES (?, ?, ?, ?, ?)\n",
    "    ''', (nombre, codigo_pieza, color, precio, categoria))\n",
    "\n",
    "    \n",
    "print(f\"codigo_pieza: {codigo_pieza}, nombre: {nombre}\")\n",
    "    "
   ]
  },
  {
   "cell_type": "code",
   "execution_count": 80,
   "metadata": {},
   "outputs": [
    {
     "data": {
      "text/plain": [
       "[('Motor', 'LP-33240', 'Amarillo', 323.4, 'Frenos'),\n",
       " ('Espejo retrovisor', 'ju-40793', 'Blanco', 119.65, 'Motor'),\n",
       " ('Motor', 'hZ-33692', 'Amarillo', 269.07, 'Escape'),\n",
       " ('Ventilador', 'Hd-88772', 'Gris', 876.36, 'Neumáticos'),\n",
       " ('Inyector', 'Bw-19325', 'Negro', 623.81, 'Refrigeración'),\n",
       " ('Carter', 'oS-63964', 'Blanco', 725.89, 'Carrocería'),\n",
       " ('Batería', 'pU-30053', 'Azul', 16.78, 'Neumáticos'),\n",
       " ('Pastilla de freno', 'bs-56723', 'Negro', 867.12, 'Electrónica'),\n",
       " ('Airbag', 'be-56654', 'Blanco', 968.23, 'Motor'),\n",
       " ('Airbag', 'kG-83947', 'Rojo', 681.28, 'Iluminación'),\n",
       " ('Ventilador', 'lw-11181', 'Plateado', 749.38, 'Motor'),\n",
       " ('Sensor de oxígeno', 'Sh-83373', 'Plateado', 809.46, 'Refrigeración'),\n",
       " ('Filtro de aceite', 'SW-17535', 'Plateado', 138.21, 'Carrocería'),\n",
       " ('Airbag', 'Gi-20550', 'Blanco', 176.24, 'Escape'),\n",
       " ('Espejo retrovisor', 'mY-55997', 'Gris', 752.46, 'Neumáticos'),\n",
       " ('Palanca de cambios', 'Hy-87046', 'Negro', 783.84, 'Escape'),\n",
       " ('Faro delantero', 'LC-59324', 'Blanco', 550.44, 'Escape'),\n",
       " ('Disco de freno', 'ql-72645', 'Blanco', 280.78, 'Neumáticos'),\n",
       " ('Llanta', 'yW-47820', 'Gris', 543.81, 'Escape'),\n",
       " ('Eje', 'YJ-29097', 'Negro', 692.48, 'Refrigeración'),\n",
       " ('Disco de freno', 'IH-84796', 'Negro', 760.71, 'Refrigeración'),\n",
       " ('Radiador', 'TF-10276', 'Plateado', 829.22, 'Transmisión'),\n",
       " ('Correa de distribución', 'OT-83907', 'Amarillo', 26.18, 'Electrónica'),\n",
       " ('Alternador', 'uw-49433', 'Marrón', 771.46, 'Escape'),\n",
       " ('Parachoques', 'mF-57979', 'Rojo', 178.32, 'Motor'),\n",
       " ('Pedal de freno', 'rn-14154', 'Negro', 769.44, 'Neumáticos'),\n",
       " ('Espejo retrovisor', 'ng-98031', 'Marrón', 927.51, 'Frenos'),\n",
       " ('Pedal de freno', 'qa-58991', 'Amarillo', 861.42, 'Suspensión'),\n",
       " ('Escape', 'Ho-93794', 'Negro', 541.65, 'Electrónica'),\n",
       " ('Amortiguador', 'Ys-60923', 'Verde', 960.53, 'Transmisión')]"
      ]
     },
     "execution_count": 80,
     "metadata": {},
     "output_type": "execute_result"
    }
   ],
   "source": [
    "piezas_info_list "
   ]
  },
  {
   "cell_type": "code",
   "execution_count": null,
   "metadata": {},
   "outputs": [
    {
     "data": {
      "text/plain": [
       "<sqlite3.Cursor at 0x10a47b5c0>"
      ]
     },
     "execution_count": 54,
     "metadata": {},
     "output_type": "execute_result"
    }
   ],
   "source": []
  },
  {
   "cell_type": "code",
   "execution_count": 81,
   "metadata": {},
   "outputs": [
    {
     "data": {
      "text/html": [
       "<div>\n",
       "<style scoped>\n",
       "    .dataframe tbody tr th:only-of-type {\n",
       "        vertical-align: middle;\n",
       "    }\n",
       "\n",
       "    .dataframe tbody tr th {\n",
       "        vertical-align: top;\n",
       "    }\n",
       "\n",
       "    .dataframe thead th {\n",
       "        text-align: right;\n",
       "    }\n",
       "</style>\n",
       "<table border=\"1\" class=\"dataframe\">\n",
       "  <thead>\n",
       "    <tr style=\"text-align: right;\">\n",
       "      <th></th>\n",
       "      <th>nombre</th>\n",
       "    </tr>\n",
       "  </thead>\n",
       "  <tbody>\n",
       "    <tr>\n",
       "      <th>0</th>\n",
       "      <td>Motor</td>\n",
       "    </tr>\n",
       "    <tr>\n",
       "      <th>1</th>\n",
       "      <td>Espejo retrovisor</td>\n",
       "    </tr>\n",
       "    <tr>\n",
       "      <th>2</th>\n",
       "      <td>Motor</td>\n",
       "    </tr>\n",
       "    <tr>\n",
       "      <th>3</th>\n",
       "      <td>Ventilador</td>\n",
       "    </tr>\n",
       "    <tr>\n",
       "      <th>4</th>\n",
       "      <td>Inyector</td>\n",
       "    </tr>\n",
       "    <tr>\n",
       "      <th>5</th>\n",
       "      <td>Carter</td>\n",
       "    </tr>\n",
       "    <tr>\n",
       "      <th>6</th>\n",
       "      <td>Batería</td>\n",
       "    </tr>\n",
       "    <tr>\n",
       "      <th>7</th>\n",
       "      <td>Pastilla de freno</td>\n",
       "    </tr>\n",
       "    <tr>\n",
       "      <th>8</th>\n",
       "      <td>Airbag</td>\n",
       "    </tr>\n",
       "    <tr>\n",
       "      <th>9</th>\n",
       "      <td>Airbag</td>\n",
       "    </tr>\n",
       "    <tr>\n",
       "      <th>10</th>\n",
       "      <td>Ventilador</td>\n",
       "    </tr>\n",
       "    <tr>\n",
       "      <th>11</th>\n",
       "      <td>Sensor de oxígeno</td>\n",
       "    </tr>\n",
       "    <tr>\n",
       "      <th>12</th>\n",
       "      <td>Filtro de aceite</td>\n",
       "    </tr>\n",
       "    <tr>\n",
       "      <th>13</th>\n",
       "      <td>Airbag</td>\n",
       "    </tr>\n",
       "    <tr>\n",
       "      <th>14</th>\n",
       "      <td>Espejo retrovisor</td>\n",
       "    </tr>\n",
       "    <tr>\n",
       "      <th>15</th>\n",
       "      <td>Palanca de cambios</td>\n",
       "    </tr>\n",
       "    <tr>\n",
       "      <th>16</th>\n",
       "      <td>Faro delantero</td>\n",
       "    </tr>\n",
       "    <tr>\n",
       "      <th>17</th>\n",
       "      <td>Disco de freno</td>\n",
       "    </tr>\n",
       "    <tr>\n",
       "      <th>18</th>\n",
       "      <td>Llanta</td>\n",
       "    </tr>\n",
       "    <tr>\n",
       "      <th>19</th>\n",
       "      <td>Eje</td>\n",
       "    </tr>\n",
       "    <tr>\n",
       "      <th>20</th>\n",
       "      <td>Disco de freno</td>\n",
       "    </tr>\n",
       "    <tr>\n",
       "      <th>21</th>\n",
       "      <td>Radiador</td>\n",
       "    </tr>\n",
       "    <tr>\n",
       "      <th>22</th>\n",
       "      <td>Correa de distribución</td>\n",
       "    </tr>\n",
       "    <tr>\n",
       "      <th>23</th>\n",
       "      <td>Alternador</td>\n",
       "    </tr>\n",
       "    <tr>\n",
       "      <th>24</th>\n",
       "      <td>Parachoques</td>\n",
       "    </tr>\n",
       "    <tr>\n",
       "      <th>25</th>\n",
       "      <td>Pedal de freno</td>\n",
       "    </tr>\n",
       "    <tr>\n",
       "      <th>26</th>\n",
       "      <td>Espejo retrovisor</td>\n",
       "    </tr>\n",
       "    <tr>\n",
       "      <th>27</th>\n",
       "      <td>Pedal de freno</td>\n",
       "    </tr>\n",
       "    <tr>\n",
       "      <th>28</th>\n",
       "      <td>Escape</td>\n",
       "    </tr>\n",
       "    <tr>\n",
       "      <th>29</th>\n",
       "      <td>Amortiguador</td>\n",
       "    </tr>\n",
       "  </tbody>\n",
       "</table>\n",
       "</div>"
      ],
      "text/plain": [
       "                    nombre\n",
       "0                    Motor\n",
       "1        Espejo retrovisor\n",
       "2                    Motor\n",
       "3               Ventilador\n",
       "4                 Inyector\n",
       "5                   Carter\n",
       "6                  Batería\n",
       "7        Pastilla de freno\n",
       "8                   Airbag\n",
       "9                   Airbag\n",
       "10              Ventilador\n",
       "11       Sensor de oxígeno\n",
       "12        Filtro de aceite\n",
       "13                  Airbag\n",
       "14       Espejo retrovisor\n",
       "15      Palanca de cambios\n",
       "16          Faro delantero\n",
       "17          Disco de freno\n",
       "18                  Llanta\n",
       "19                     Eje\n",
       "20          Disco de freno\n",
       "21                Radiador\n",
       "22  Correa de distribución\n",
       "23              Alternador\n",
       "24             Parachoques\n",
       "25          Pedal de freno\n",
       "26       Espejo retrovisor\n",
       "27          Pedal de freno\n",
       "28                  Escape\n",
       "29            Amortiguador"
      ]
     },
     "execution_count": 81,
     "metadata": {},
     "output_type": "execute_result"
    }
   ],
   "source": [
    "query = ''' \n",
    "SELECT nombre\n",
    "FROM pieza\n",
    "'''\n",
    "pd.read_sql(query, cnx)"
   ]
  },
  {
   "cell_type": "code",
   "execution_count": 82,
   "metadata": {},
   "outputs": [
    {
     "data": {
      "text/html": [
       "<div>\n",
       "<style scoped>\n",
       "    .dataframe tbody tr th:only-of-type {\n",
       "        vertical-align: middle;\n",
       "    }\n",
       "\n",
       "    .dataframe tbody tr th {\n",
       "        vertical-align: top;\n",
       "    }\n",
       "\n",
       "    .dataframe thead th {\n",
       "        text-align: right;\n",
       "    }\n",
       "</style>\n",
       "<table border=\"1\" class=\"dataframe\">\n",
       "  <thead>\n",
       "    <tr style=\"text-align: right;\">\n",
       "      <th></th>\n",
       "      <th>type</th>\n",
       "      <th>name</th>\n",
       "      <th>tbl_name</th>\n",
       "      <th>rootpage</th>\n",
       "      <th>sql</th>\n",
       "    </tr>\n",
       "  </thead>\n",
       "  <tbody>\n",
       "    <tr>\n",
       "      <th>0</th>\n",
       "      <td>table</td>\n",
       "      <td>proveedores</td>\n",
       "      <td>proveedores</td>\n",
       "      <td>2</td>\n",
       "      <td>CREATE TABLE proveedores (\\nid_proveedor INT P...</td>\n",
       "    </tr>\n",
       "    <tr>\n",
       "      <th>1</th>\n",
       "      <td>table</td>\n",
       "      <td>categoria_pieza</td>\n",
       "      <td>categoria_pieza</td>\n",
       "      <td>6</td>\n",
       "      <td>CREATE TABLE categoria_pieza (\\nid_categoria I...</td>\n",
       "    </tr>\n",
       "    <tr>\n",
       "      <th>2</th>\n",
       "      <td>table</td>\n",
       "      <td>operaciones</td>\n",
       "      <td>operaciones</td>\n",
       "      <td>8</td>\n",
       "      <td>CREATE TABLE operaciones (\\nid_operacion INT P...</td>\n",
       "    </tr>\n",
       "    <tr>\n",
       "      <th>3</th>\n",
       "      <td>table</td>\n",
       "      <td>facturas</td>\n",
       "      <td>facturas</td>\n",
       "      <td>10</td>\n",
       "      <td>CREATE TABLE facturas (\\nid_factura INT PRIMAR...</td>\n",
       "    </tr>\n",
       "    <tr>\n",
       "      <th>4</th>\n",
       "      <td>table</td>\n",
       "      <td>pieza</td>\n",
       "      <td>pieza</td>\n",
       "      <td>12</td>\n",
       "      <td>CREATE TABLE pieza (\\n    id INTEGER PRIMARY K...</td>\n",
       "    </tr>\n",
       "    <tr>\n",
       "      <th>5</th>\n",
       "      <td>table</td>\n",
       "      <td>sqlite_sequence</td>\n",
       "      <td>sqlite_sequence</td>\n",
       "      <td>13</td>\n",
       "      <td>CREATE TABLE sqlite_sequence(name,seq)</td>\n",
       "    </tr>\n",
       "  </tbody>\n",
       "</table>\n",
       "</div>"
      ],
      "text/plain": [
       "    type             name         tbl_name  rootpage  \\\n",
       "0  table      proveedores      proveedores         2   \n",
       "1  table  categoria_pieza  categoria_pieza         6   \n",
       "2  table      operaciones      operaciones         8   \n",
       "3  table         facturas         facturas        10   \n",
       "4  table            pieza            pieza        12   \n",
       "5  table  sqlite_sequence  sqlite_sequence        13   \n",
       "\n",
       "                                                 sql  \n",
       "0  CREATE TABLE proveedores (\\nid_proveedor INT P...  \n",
       "1  CREATE TABLE categoria_pieza (\\nid_categoria I...  \n",
       "2  CREATE TABLE operaciones (\\nid_operacion INT P...  \n",
       "3  CREATE TABLE facturas (\\nid_factura INT PRIMAR...  \n",
       "4  CREATE TABLE pieza (\\n    id INTEGER PRIMARY K...  \n",
       "5             CREATE TABLE sqlite_sequence(name,seq)  "
      ]
     },
     "execution_count": 82,
     "metadata": {},
     "output_type": "execute_result"
    }
   ],
   "source": [
    "query = ''' \n",
    "SELECT *\n",
    "FROM sqlite_master\n",
    "WHERE type = \"table\"\n",
    "'''\n",
    "pd.read_sql(query, cnx)"
   ]
  },
  {
   "cell_type": "code",
   "execution_count": 64,
   "metadata": {},
   "outputs": [
    {
     "data": {
      "text/plain": [
       "<sqlite3.Cursor at 0x10a47b5c0>"
      ]
     },
     "execution_count": 64,
     "metadata": {},
     "output_type": "execute_result"
    }
   ],
   "source": [
    "cursor_prov.execute(\"DROP TABLE IF EXISTS piezas\")"
   ]
  },
  {
   "cell_type": "code",
   "execution_count": 83,
   "metadata": {},
   "outputs": [
    {
     "data": {
      "text/html": [
       "<div>\n",
       "<style scoped>\n",
       "    .dataframe tbody tr th:only-of-type {\n",
       "        vertical-align: middle;\n",
       "    }\n",
       "\n",
       "    .dataframe tbody tr th {\n",
       "        vertical-align: top;\n",
       "    }\n",
       "\n",
       "    .dataframe thead th {\n",
       "        text-align: right;\n",
       "    }\n",
       "</style>\n",
       "<table border=\"1\" class=\"dataframe\">\n",
       "  <thead>\n",
       "    <tr style=\"text-align: right;\">\n",
       "      <th></th>\n",
       "      <th>type</th>\n",
       "      <th>name</th>\n",
       "      <th>tbl_name</th>\n",
       "      <th>rootpage</th>\n",
       "      <th>sql</th>\n",
       "    </tr>\n",
       "  </thead>\n",
       "  <tbody>\n",
       "    <tr>\n",
       "      <th>0</th>\n",
       "      <td>table</td>\n",
       "      <td>proveedores</td>\n",
       "      <td>proveedores</td>\n",
       "      <td>2</td>\n",
       "      <td>CREATE TABLE proveedores (\\nid_proveedor INT P...</td>\n",
       "    </tr>\n",
       "    <tr>\n",
       "      <th>1</th>\n",
       "      <td>table</td>\n",
       "      <td>categoria_pieza</td>\n",
       "      <td>categoria_pieza</td>\n",
       "      <td>6</td>\n",
       "      <td>CREATE TABLE categoria_pieza (\\nid_categoria I...</td>\n",
       "    </tr>\n",
       "    <tr>\n",
       "      <th>2</th>\n",
       "      <td>table</td>\n",
       "      <td>operaciones</td>\n",
       "      <td>operaciones</td>\n",
       "      <td>8</td>\n",
       "      <td>CREATE TABLE operaciones (\\nid_operacion INT P...</td>\n",
       "    </tr>\n",
       "    <tr>\n",
       "      <th>3</th>\n",
       "      <td>table</td>\n",
       "      <td>facturas</td>\n",
       "      <td>facturas</td>\n",
       "      <td>10</td>\n",
       "      <td>CREATE TABLE facturas (\\nid_factura INT PRIMAR...</td>\n",
       "    </tr>\n",
       "    <tr>\n",
       "      <th>4</th>\n",
       "      <td>table</td>\n",
       "      <td>pieza</td>\n",
       "      <td>pieza</td>\n",
       "      <td>12</td>\n",
       "      <td>CREATE TABLE pieza (\\n    id INTEGER PRIMARY K...</td>\n",
       "    </tr>\n",
       "    <tr>\n",
       "      <th>5</th>\n",
       "      <td>table</td>\n",
       "      <td>sqlite_sequence</td>\n",
       "      <td>sqlite_sequence</td>\n",
       "      <td>13</td>\n",
       "      <td>CREATE TABLE sqlite_sequence(name,seq)</td>\n",
       "    </tr>\n",
       "  </tbody>\n",
       "</table>\n",
       "</div>"
      ],
      "text/plain": [
       "    type             name         tbl_name  rootpage  \\\n",
       "0  table      proveedores      proveedores         2   \n",
       "1  table  categoria_pieza  categoria_pieza         6   \n",
       "2  table      operaciones      operaciones         8   \n",
       "3  table         facturas         facturas        10   \n",
       "4  table            pieza            pieza        12   \n",
       "5  table  sqlite_sequence  sqlite_sequence        13   \n",
       "\n",
       "                                                 sql  \n",
       "0  CREATE TABLE proveedores (\\nid_proveedor INT P...  \n",
       "1  CREATE TABLE categoria_pieza (\\nid_categoria I...  \n",
       "2  CREATE TABLE operaciones (\\nid_operacion INT P...  \n",
       "3  CREATE TABLE facturas (\\nid_factura INT PRIMAR...  \n",
       "4  CREATE TABLE pieza (\\n    id INTEGER PRIMARY K...  \n",
       "5             CREATE TABLE sqlite_sequence(name,seq)  "
      ]
     },
     "execution_count": 83,
     "metadata": {},
     "output_type": "execute_result"
    }
   ],
   "source": [
    "query = ''' \n",
    "SELECT *\n",
    "FROM sqlite_master\n",
    "WHERE type = \"table\"\n",
    "'''\n",
    "pd.read_sql(query, cnx)"
   ]
  },
  {
   "cell_type": "code",
   "execution_count": 86,
   "metadata": {},
   "outputs": [],
   "source": [
    "cnx.commit()\n",
    "\n"
   ]
  }
 ],
 "metadata": {
  "kernelspec": {
   "display_name": "Python 3",
   "language": "python",
   "name": "python3"
  },
  "language_info": {
   "codemirror_mode": {
    "name": "ipython",
    "version": 3
   },
   "file_extension": ".py",
   "mimetype": "text/x-python",
   "name": "python",
   "nbconvert_exporter": "python",
   "pygments_lexer": "ipython3",
   "version": "3.13.3"
  }
 },
 "nbformat": 4,
 "nbformat_minor": 2
}
