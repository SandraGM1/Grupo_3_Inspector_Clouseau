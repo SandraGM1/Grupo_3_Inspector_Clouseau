{
 "cells": [
  {
   "cell_type": "code",
   "execution_count": 1,
   "id": "9db17040",
   "metadata": {},
   "outputs": [],
   "source": [
    "import pandas as pd\n",
    "import sqlite3"
   ]
  },
  {
   "cell_type": "code",
   "execution_count": 2,
   "id": "dbbf93fc",
   "metadata": {},
   "outputs": [],
   "source": [
    "cnx = sqlite3.connect(\"base_datos_proveedores.db\")"
   ]
  },
  {
   "cell_type": "code",
   "execution_count": 3,
   "id": "3de1ed35",
   "metadata": {},
   "outputs": [],
   "source": [
    "cursor_prov = cnx.cursor()"
   ]
  },
  {
   "cell_type": "code",
   "execution_count": 4,
   "id": "9da34088",
   "metadata": {},
   "outputs": [
    {
     "data": {
      "text/plain": [
       "<sqlite3.Cursor at 0x1db7f63dc40>"
      ]
     },
     "execution_count": 4,
     "metadata": {},
     "output_type": "execute_result"
    }
   ],
   "source": [
    "query = '''\n",
    "CREATE TABLE proveedores (\n",
    "id_proveedor INT PRIMARY KEY,\n",
    "nombre TEXT NOT NULL,\n",
    "direccion TEXT NOT NULL,\n",
    "ciudad TEXT NOT NULL,\n",
    "provincia TEXT NOT NULL\n",
    ") \n",
    "'''\n",
    "cursor_prov.execute(query)"
   ]
  },
  {
   "cell_type": "code",
   "execution_count": 5,
   "id": "cf9619cb",
   "metadata": {},
   "outputs": [
    {
     "data": {
      "text/html": [
       "<div>\n",
       "<style scoped>\n",
       "    .dataframe tbody tr th:only-of-type {\n",
       "        vertical-align: middle;\n",
       "    }\n",
       "\n",
       "    .dataframe tbody tr th {\n",
       "        vertical-align: top;\n",
       "    }\n",
       "\n",
       "    .dataframe thead th {\n",
       "        text-align: right;\n",
       "    }\n",
       "</style>\n",
       "<table border=\"1\" class=\"dataframe\">\n",
       "  <thead>\n",
       "    <tr style=\"text-align: right;\">\n",
       "      <th></th>\n",
       "      <th>type</th>\n",
       "      <th>name</th>\n",
       "      <th>tbl_name</th>\n",
       "      <th>rootpage</th>\n",
       "      <th>sql</th>\n",
       "    </tr>\n",
       "  </thead>\n",
       "  <tbody>\n",
       "    <tr>\n",
       "      <th>0</th>\n",
       "      <td>table</td>\n",
       "      <td>proveedores</td>\n",
       "      <td>proveedores</td>\n",
       "      <td>2</td>\n",
       "      <td>CREATE TABLE proveedores (\\nid_proveedor INT P...</td>\n",
       "    </tr>\n",
       "  </tbody>\n",
       "</table>\n",
       "</div>"
      ],
      "text/plain": [
       "    type         name     tbl_name  rootpage  \\\n",
       "0  table  proveedores  proveedores         2   \n",
       "\n",
       "                                                 sql  \n",
       "0  CREATE TABLE proveedores (\\nid_proveedor INT P...  "
      ]
     },
     "execution_count": 5,
     "metadata": {},
     "output_type": "execute_result"
    }
   ],
   "source": [
    "query = ''' \n",
    "SELECT *\n",
    "FROM sqlite_master\n",
    "WHERE type = \"table\"\n",
    "'''\n",
    "pd.read_sql(query, cnx)"
   ]
  },
  {
   "cell_type": "code",
   "execution_count": 16,
   "id": "ac828aa3",
   "metadata": {},
   "outputs": [
    {
     "data": {
      "text/html": [
       "<div>\n",
       "<style scoped>\n",
       "    .dataframe tbody tr th:only-of-type {\n",
       "        vertical-align: middle;\n",
       "    }\n",
       "\n",
       "    .dataframe tbody tr th {\n",
       "        vertical-align: top;\n",
       "    }\n",
       "\n",
       "    .dataframe thead th {\n",
       "        text-align: right;\n",
       "    }\n",
       "</style>\n",
       "<table border=\"1\" class=\"dataframe\">\n",
       "  <thead>\n",
       "    <tr style=\"text-align: right;\">\n",
       "      <th></th>\n",
       "      <th>id_proveedor</th>\n",
       "      <th>nombre</th>\n",
       "      <th>direccion</th>\n",
       "      <th>ciudad</th>\n",
       "      <th>provincia</th>\n",
       "    </tr>\n",
       "  </thead>\n",
       "  <tbody>\n",
       "  </tbody>\n",
       "</table>\n",
       "</div>"
      ],
      "text/plain": [
       "Empty DataFrame\n",
       "Columns: [id_proveedor, nombre, direccion, ciudad, provincia]\n",
       "Index: []"
      ]
     },
     "execution_count": 16,
     "metadata": {},
     "output_type": "execute_result"
    }
   ],
   "source": [
    "query = ''' \n",
    "SELECT *\n",
    "FROM proveedores\n",
    "'''\n",
    "pd.read_sql(query, cnx)"
   ]
  },
  {
   "cell_type": "code",
   "execution_count": 6,
   "id": "806aa323",
   "metadata": {},
   "outputs": [
    {
     "data": {
      "text/plain": [
       "<sqlite3.Cursor at 0x1db7f63dc40>"
      ]
     },
     "execution_count": 6,
     "metadata": {},
     "output_type": "execute_result"
    }
   ],
   "source": [
    "query = '''\n",
    "CREATE TABLE piezas (\n",
    "id_pieza INT PRIMARY KEY,\n",
    "nombre TEXT NOT NULL,\n",
    "color TEXT NOT NULL,\n",
    "precio FLOAT NOT NULL,\n",
    "categoria TEXT NOT NULL\n",
    ") \n",
    "'''\n",
    "cursor_prov.execute(query)"
   ]
  },
  {
   "cell_type": "code",
   "execution_count": 7,
   "id": "70e3bcc4",
   "metadata": {},
   "outputs": [
    {
     "data": {
      "text/html": [
       "<div>\n",
       "<style scoped>\n",
       "    .dataframe tbody tr th:only-of-type {\n",
       "        vertical-align: middle;\n",
       "    }\n",
       "\n",
       "    .dataframe tbody tr th {\n",
       "        vertical-align: top;\n",
       "    }\n",
       "\n",
       "    .dataframe thead th {\n",
       "        text-align: right;\n",
       "    }\n",
       "</style>\n",
       "<table border=\"1\" class=\"dataframe\">\n",
       "  <thead>\n",
       "    <tr style=\"text-align: right;\">\n",
       "      <th></th>\n",
       "      <th>type</th>\n",
       "      <th>name</th>\n",
       "      <th>tbl_name</th>\n",
       "      <th>rootpage</th>\n",
       "      <th>sql</th>\n",
       "    </tr>\n",
       "  </thead>\n",
       "  <tbody>\n",
       "    <tr>\n",
       "      <th>0</th>\n",
       "      <td>table</td>\n",
       "      <td>proveedores</td>\n",
       "      <td>proveedores</td>\n",
       "      <td>2</td>\n",
       "      <td>CREATE TABLE proveedores (\\nid_proveedor INT P...</td>\n",
       "    </tr>\n",
       "    <tr>\n",
       "      <th>1</th>\n",
       "      <td>table</td>\n",
       "      <td>piezas</td>\n",
       "      <td>piezas</td>\n",
       "      <td>4</td>\n",
       "      <td>CREATE TABLE piezas (\\nid_pieza INT PRIMARY KE...</td>\n",
       "    </tr>\n",
       "  </tbody>\n",
       "</table>\n",
       "</div>"
      ],
      "text/plain": [
       "    type         name     tbl_name  rootpage  \\\n",
       "0  table  proveedores  proveedores         2   \n",
       "1  table       piezas       piezas         4   \n",
       "\n",
       "                                                 sql  \n",
       "0  CREATE TABLE proveedores (\\nid_proveedor INT P...  \n",
       "1  CREATE TABLE piezas (\\nid_pieza INT PRIMARY KE...  "
      ]
     },
     "execution_count": 7,
     "metadata": {},
     "output_type": "execute_result"
    }
   ],
   "source": [
    "query = ''' \n",
    "SELECT *\n",
    "FROM sqlite_master\n",
    "WHERE type = \"table\"\n",
    "'''\n",
    "pd.read_sql(query, cnx)"
   ]
  },
  {
   "cell_type": "code",
   "execution_count": 8,
   "id": "cb598c86",
   "metadata": {},
   "outputs": [
    {
     "data": {
      "text/plain": [
       "<sqlite3.Cursor at 0x1db7f63dc40>"
      ]
     },
     "execution_count": 8,
     "metadata": {},
     "output_type": "execute_result"
    }
   ],
   "source": [
    "query = '''\n",
    "CREATE TABLE categoria_pieza (\n",
    "id_categoria INT PRIMARY KEY,\n",
    "nombre_categoria TEXT NOT NULL\n",
    ") \n",
    "'''\n",
    "cursor_prov.execute(query)"
   ]
  },
  {
   "cell_type": "code",
   "execution_count": 9,
   "id": "bc2f8773",
   "metadata": {},
   "outputs": [
    {
     "data": {
      "text/html": [
       "<div>\n",
       "<style scoped>\n",
       "    .dataframe tbody tr th:only-of-type {\n",
       "        vertical-align: middle;\n",
       "    }\n",
       "\n",
       "    .dataframe tbody tr th {\n",
       "        vertical-align: top;\n",
       "    }\n",
       "\n",
       "    .dataframe thead th {\n",
       "        text-align: right;\n",
       "    }\n",
       "</style>\n",
       "<table border=\"1\" class=\"dataframe\">\n",
       "  <thead>\n",
       "    <tr style=\"text-align: right;\">\n",
       "      <th></th>\n",
       "      <th>type</th>\n",
       "      <th>name</th>\n",
       "      <th>tbl_name</th>\n",
       "      <th>rootpage</th>\n",
       "      <th>sql</th>\n",
       "    </tr>\n",
       "  </thead>\n",
       "  <tbody>\n",
       "    <tr>\n",
       "      <th>0</th>\n",
       "      <td>table</td>\n",
       "      <td>proveedores</td>\n",
       "      <td>proveedores</td>\n",
       "      <td>2</td>\n",
       "      <td>CREATE TABLE proveedores (\\nid_proveedor INT P...</td>\n",
       "    </tr>\n",
       "    <tr>\n",
       "      <th>1</th>\n",
       "      <td>table</td>\n",
       "      <td>piezas</td>\n",
       "      <td>piezas</td>\n",
       "      <td>4</td>\n",
       "      <td>CREATE TABLE piezas (\\nid_pieza INT PRIMARY KE...</td>\n",
       "    </tr>\n",
       "    <tr>\n",
       "      <th>2</th>\n",
       "      <td>table</td>\n",
       "      <td>categoria_pieza</td>\n",
       "      <td>categoria_pieza</td>\n",
       "      <td>6</td>\n",
       "      <td>CREATE TABLE categoria_pieza (\\nid_categoria I...</td>\n",
       "    </tr>\n",
       "  </tbody>\n",
       "</table>\n",
       "</div>"
      ],
      "text/plain": [
       "    type             name         tbl_name  rootpage  \\\n",
       "0  table      proveedores      proveedores         2   \n",
       "1  table           piezas           piezas         4   \n",
       "2  table  categoria_pieza  categoria_pieza         6   \n",
       "\n",
       "                                                 sql  \n",
       "0  CREATE TABLE proveedores (\\nid_proveedor INT P...  \n",
       "1  CREATE TABLE piezas (\\nid_pieza INT PRIMARY KE...  \n",
       "2  CREATE TABLE categoria_pieza (\\nid_categoria I...  "
      ]
     },
     "execution_count": 9,
     "metadata": {},
     "output_type": "execute_result"
    }
   ],
   "source": [
    "query = ''' \n",
    "SELECT *\n",
    "FROM sqlite_master\n",
    "WHERE type = \"table\"\n",
    "'''\n",
    "pd.read_sql(query, cnx)"
   ]
  },
  {
   "cell_type": "code",
   "execution_count": 10,
   "id": "f3366852",
   "metadata": {},
   "outputs": [
    {
     "data": {
      "text/html": [
       "<div>\n",
       "<style scoped>\n",
       "    .dataframe tbody tr th:only-of-type {\n",
       "        vertical-align: middle;\n",
       "    }\n",
       "\n",
       "    .dataframe tbody tr th {\n",
       "        vertical-align: top;\n",
       "    }\n",
       "\n",
       "    .dataframe thead th {\n",
       "        text-align: right;\n",
       "    }\n",
       "</style>\n",
       "<table border=\"1\" class=\"dataframe\">\n",
       "  <thead>\n",
       "    <tr style=\"text-align: right;\">\n",
       "      <th></th>\n",
       "      <th>id_categoria</th>\n",
       "      <th>nombre_categoria</th>\n",
       "    </tr>\n",
       "  </thead>\n",
       "  <tbody>\n",
       "  </tbody>\n",
       "</table>\n",
       "</div>"
      ],
      "text/plain": [
       "Empty DataFrame\n",
       "Columns: [id_categoria, nombre_categoria]\n",
       "Index: []"
      ]
     },
     "execution_count": 10,
     "metadata": {},
     "output_type": "execute_result"
    }
   ],
   "source": [
    "query = ''' \n",
    "SELECT *\n",
    "FROM categoria_pieza\n",
    "'''\n",
    "pd.read_sql(query, cnx)"
   ]
  },
  {
   "cell_type": "code",
   "execution_count": 12,
   "id": "5a445057",
   "metadata": {},
   "outputs": [
    {
     "data": {
      "text/plain": [
       "<sqlite3.Cursor at 0x1db7f63dc40>"
      ]
     },
     "execution_count": 12,
     "metadata": {},
     "output_type": "execute_result"
    }
   ],
   "source": [
    "query = '''\n",
    "CREATE TABLE operaciones (\n",
    "id_operacion INT PRIMARY KEY,\n",
    "id_proveedor INT NOT NULL,\n",
    "id_pieza INT NOT NULL,\n",
    "fecha TEXT NOT NULL,\n",
    "id_factura INT NOT NULL\n",
    ") \n",
    "'''\n",
    "cursor_prov.execute(query)"
   ]
  },
  {
   "cell_type": "code",
   "execution_count": 13,
   "id": "378c0105",
   "metadata": {},
   "outputs": [
    {
     "data": {
      "text/html": [
       "<div>\n",
       "<style scoped>\n",
       "    .dataframe tbody tr th:only-of-type {\n",
       "        vertical-align: middle;\n",
       "    }\n",
       "\n",
       "    .dataframe tbody tr th {\n",
       "        vertical-align: top;\n",
       "    }\n",
       "\n",
       "    .dataframe thead th {\n",
       "        text-align: right;\n",
       "    }\n",
       "</style>\n",
       "<table border=\"1\" class=\"dataframe\">\n",
       "  <thead>\n",
       "    <tr style=\"text-align: right;\">\n",
       "      <th></th>\n",
       "      <th>type</th>\n",
       "      <th>name</th>\n",
       "      <th>tbl_name</th>\n",
       "      <th>rootpage</th>\n",
       "      <th>sql</th>\n",
       "    </tr>\n",
       "  </thead>\n",
       "  <tbody>\n",
       "    <tr>\n",
       "      <th>0</th>\n",
       "      <td>table</td>\n",
       "      <td>proveedores</td>\n",
       "      <td>proveedores</td>\n",
       "      <td>2</td>\n",
       "      <td>CREATE TABLE proveedores (\\nid_proveedor INT P...</td>\n",
       "    </tr>\n",
       "    <tr>\n",
       "      <th>1</th>\n",
       "      <td>table</td>\n",
       "      <td>piezas</td>\n",
       "      <td>piezas</td>\n",
       "      <td>4</td>\n",
       "      <td>CREATE TABLE piezas (\\nid_pieza INT PRIMARY KE...</td>\n",
       "    </tr>\n",
       "    <tr>\n",
       "      <th>2</th>\n",
       "      <td>table</td>\n",
       "      <td>categoria_pieza</td>\n",
       "      <td>categoria_pieza</td>\n",
       "      <td>6</td>\n",
       "      <td>CREATE TABLE categoria_pieza (\\nid_categoria I...</td>\n",
       "    </tr>\n",
       "    <tr>\n",
       "      <th>3</th>\n",
       "      <td>table</td>\n",
       "      <td>operaciones</td>\n",
       "      <td>operaciones</td>\n",
       "      <td>8</td>\n",
       "      <td>CREATE TABLE operaciones (\\nid_operacion INT P...</td>\n",
       "    </tr>\n",
       "  </tbody>\n",
       "</table>\n",
       "</div>"
      ],
      "text/plain": [
       "    type             name         tbl_name  rootpage  \\\n",
       "0  table      proveedores      proveedores         2   \n",
       "1  table           piezas           piezas         4   \n",
       "2  table  categoria_pieza  categoria_pieza         6   \n",
       "3  table      operaciones      operaciones         8   \n",
       "\n",
       "                                                 sql  \n",
       "0  CREATE TABLE proveedores (\\nid_proveedor INT P...  \n",
       "1  CREATE TABLE piezas (\\nid_pieza INT PRIMARY KE...  \n",
       "2  CREATE TABLE categoria_pieza (\\nid_categoria I...  \n",
       "3  CREATE TABLE operaciones (\\nid_operacion INT P...  "
      ]
     },
     "execution_count": 13,
     "metadata": {},
     "output_type": "execute_result"
    }
   ],
   "source": [
    "query = ''' \n",
    "SELECT *\n",
    "FROM sqlite_master\n",
    "WHERE type = \"table\"\n",
    "'''\n",
    "pd.read_sql(query, cnx)"
   ]
  },
  {
   "cell_type": "code",
   "execution_count": 14,
   "id": "508cf0cb",
   "metadata": {},
   "outputs": [
    {
     "data": {
      "text/plain": [
       "<sqlite3.Cursor at 0x1db7f63dc40>"
      ]
     },
     "execution_count": 14,
     "metadata": {},
     "output_type": "execute_result"
    }
   ],
   "source": [
    "query = '''\n",
    "CREATE TABLE facturas (\n",
    "id_factura INT PRIMARY KEY,\n",
    "id_proveedor INT NOT NULL,\n",
    "id_pieza INT NOT NULL,\n",
    "cantidad_piezas INT NOT NULL,\n",
    "precio_ud INT NOT NULL,\n",
    "total INT NOT NULL,\n",
    "fecha_factura TEXT NOT NULL\n",
    ") \n",
    "'''\n",
    "cursor_prov.execute(query)"
   ]
  },
  {
   "cell_type": "code",
   "execution_count": 15,
   "id": "58f5c8fe",
   "metadata": {},
   "outputs": [
    {
     "data": {
      "text/html": [
       "<div>\n",
       "<style scoped>\n",
       "    .dataframe tbody tr th:only-of-type {\n",
       "        vertical-align: middle;\n",
       "    }\n",
       "\n",
       "    .dataframe tbody tr th {\n",
       "        vertical-align: top;\n",
       "    }\n",
       "\n",
       "    .dataframe thead th {\n",
       "        text-align: right;\n",
       "    }\n",
       "</style>\n",
       "<table border=\"1\" class=\"dataframe\">\n",
       "  <thead>\n",
       "    <tr style=\"text-align: right;\">\n",
       "      <th></th>\n",
       "      <th>type</th>\n",
       "      <th>name</th>\n",
       "      <th>tbl_name</th>\n",
       "      <th>rootpage</th>\n",
       "      <th>sql</th>\n",
       "    </tr>\n",
       "  </thead>\n",
       "  <tbody>\n",
       "    <tr>\n",
       "      <th>0</th>\n",
       "      <td>table</td>\n",
       "      <td>proveedores</td>\n",
       "      <td>proveedores</td>\n",
       "      <td>2</td>\n",
       "      <td>CREATE TABLE proveedores (\\nid_proveedor INT P...</td>\n",
       "    </tr>\n",
       "    <tr>\n",
       "      <th>1</th>\n",
       "      <td>table</td>\n",
       "      <td>piezas</td>\n",
       "      <td>piezas</td>\n",
       "      <td>4</td>\n",
       "      <td>CREATE TABLE piezas (\\nid_pieza INT PRIMARY KE...</td>\n",
       "    </tr>\n",
       "    <tr>\n",
       "      <th>2</th>\n",
       "      <td>table</td>\n",
       "      <td>categoria_pieza</td>\n",
       "      <td>categoria_pieza</td>\n",
       "      <td>6</td>\n",
       "      <td>CREATE TABLE categoria_pieza (\\nid_categoria I...</td>\n",
       "    </tr>\n",
       "    <tr>\n",
       "      <th>3</th>\n",
       "      <td>table</td>\n",
       "      <td>operaciones</td>\n",
       "      <td>operaciones</td>\n",
       "      <td>8</td>\n",
       "      <td>CREATE TABLE operaciones (\\nid_operacion INT P...</td>\n",
       "    </tr>\n",
       "    <tr>\n",
       "      <th>4</th>\n",
       "      <td>table</td>\n",
       "      <td>facturas</td>\n",
       "      <td>facturas</td>\n",
       "      <td>10</td>\n",
       "      <td>CREATE TABLE facturas (\\nid_factura INT PRIMAR...</td>\n",
       "    </tr>\n",
       "  </tbody>\n",
       "</table>\n",
       "</div>"
      ],
      "text/plain": [
       "    type             name         tbl_name  rootpage  \\\n",
       "0  table      proveedores      proveedores         2   \n",
       "1  table           piezas           piezas         4   \n",
       "2  table  categoria_pieza  categoria_pieza         6   \n",
       "3  table      operaciones      operaciones         8   \n",
       "4  table         facturas         facturas        10   \n",
       "\n",
       "                                                 sql  \n",
       "0  CREATE TABLE proveedores (\\nid_proveedor INT P...  \n",
       "1  CREATE TABLE piezas (\\nid_pieza INT PRIMARY KE...  \n",
       "2  CREATE TABLE categoria_pieza (\\nid_categoria I...  \n",
       "3  CREATE TABLE operaciones (\\nid_operacion INT P...  \n",
       "4  CREATE TABLE facturas (\\nid_factura INT PRIMAR...  "
      ]
     },
     "execution_count": 15,
     "metadata": {},
     "output_type": "execute_result"
    }
   ],
   "source": [
    "query = ''' \n",
    "SELECT *\n",
    "FROM sqlite_master\n",
    "WHERE type = \"table\"\n",
    "'''\n",
    "pd.read_sql(query, cnx)"
   ]
  }
 ],
 "metadata": {
  "kernelspec": {
   "display_name": "Python 3",
   "language": "python",
   "name": "python3"
  },
  "language_info": {
   "codemirror_mode": {
    "name": "ipython",
    "version": 3
   },
   "file_extension": ".py",
   "mimetype": "text/x-python",
   "name": "python",
   "nbconvert_exporter": "python",
   "pygments_lexer": "ipython3",
   "version": "3.13.2"
  }
 },
 "nbformat": 4,
 "nbformat_minor": 5
}
