{
 "cells": [
  {
   "cell_type": "code",
   "execution_count": null,
   "id": "52214ddd",
   "metadata": {},
   "outputs": [],
   "source": [
    "# Importamos las librerías necesarias\n",
    "\n",
    "import pandas as pd\n",
    "import re\n",
    "import sqlite3\n",
    "\n",
    "# Faker es la librería que vamos a usar para crear datos inventados\n",
    "\n",
    "from faker import Faker\n",
    "from faker.providers import BaseProvider"
   ]
  },
  {
   "cell_type": "code",
   "execution_count": null,
   "id": "2f87fbb9",
   "metadata": {},
   "outputs": [],
   "source": [
    "# Creamos la conexión y el cursor\n",
    "\n",
    "cnx = sqlite3.connect(\"base_datos_proveedores.db\")\n",
    "cursor_prov = cnx.cursor()"
   ]
  },
  {
   "cell_type": "code",
   "execution_count": null,
   "id": "75a6e773",
   "metadata": {},
   "outputs": [],
   "source": [
    "# Inicializamos Faker en español\n",
    "\n",
    "fake = Faker(\"es_ES\")"
   ]
  },
  {
   "cell_type": "code",
   "execution_count": null,
   "id": "1e1677d1",
   "metadata": {},
   "outputs": [],
   "source": [
    "# Creamos la clase proveedor, a partir de cuyos atributos crearemos la tabla\n",
    "\n",
    "class Proveedor:\n",
    "    id = None\n",
    "    nombre = fake.name()\n",
    "    direccion = fake.address()\n",
    "    provincia = re.match(patron, direccion).group(1)\n",
    "    ciudad = provincia"
   ]
  },
  {
   "cell_type": "code",
   "execution_count": null,
   "id": "a7bfa7b2",
   "metadata": {},
   "outputs": [],
   "source": [
    "# Esto es un intento de crear direcciones con ciudad y provincia distintas\n",
    "# sin tener que hacerlo manualmente\n",
    "# Nos dimos cuenta de que \"fake.city()\" a veces devolvía nombres de provincias\n",
    "# por eso la desechamos\n",
    "\n",
    "from geopy.geocoders import Nominatim #Librería para encontrar la ubicación de una ciudad a partir de su nombre\n",
    "geolocator = Nominatim(user_agent=\"bootcamp1\") # Inicializamos el geolocalizador\n",
    "dict_proveedores = {} # Inicializamos el diccionario en el que vamos a guardar nuestros proveedores\n",
    "for i in range (1,21):\n",
    "    dict_proveedores[f\"Proveedor_{i}\"] = Proveedor()\n",
    "    dict_proveedores[f\"Proveedor_{i}\"].nombre = fake.name() # Nombre del proveedor\n",
    "    dict_proveedores[f\"Proveedor_{i}\"].direccion = fake.street_address() # Dirección que incluye solo calle y número\n",
    "    dict_proveedores[f\"Proveedor_{i}\"].ciudad = fake.city() # Ciudad\n",
    "    info_provincia = geolocator.geocode(f\"{dict_proveedores[f\"Proveedor_{i}\"].ciudad}\").address.split(\",\") # Localiza la ciudad y devuelve más datos como comunidad autónoma y país, lo pasamos a una lista para quedarnos con el elemento que nos hace falta\n",
    "    # Ahora vamos a seleccionar el elemento que nos interesa de la lista que hemos creado\n",
    "    if len(info_provincia)>= 3:\n",
    "        dict_proveedores[f\"Proveedor_{i}\"].provincia = info_provincia[-3] \n",
    "    else:\n",
    "        dict_proveedores[f\"Proveedor_{i}\"].provincia = info_provincia[-2]\n",
    "    \n",
    "    #Asignamos una id a los proveedores\n",
    "    if i < 10:\n",
    "        dict_proveedores[f\"Proveedor_{i}\"].id = int(f\"10{i}\")\n",
    "    else:\n",
    "        dict_proveedores[f\"Proveedor_{i}\"].id = int(f\"1{i}\")"
   ]
  },
  {
   "cell_type": "code",
   "execution_count": null,
   "id": "905e1d0a",
   "metadata": {},
   "outputs": [],
   "source": [
    "# Creamos una expresión regular para buscar la ciudad en la dirección inventada\n",
    "# Realmente en la dirección inventada viene la provincia, pero muchas veces coincide con el nombre de la ciudad\n",
    "# Cuando este no sea el caso lo cambiaremos manualmente\n",
    "\n",
    "patron = r\".*\\n(.*),\""
   ]
  },
  {
   "cell_type": "code",
   "execution_count": null,
   "id": "afaadbb9",
   "metadata": {},
   "outputs": [],
   "source": [
    "# El método que de verdad hemos usado\n",
    "\n",
    "dict_proveedores = {}\n",
    "for i in range (1,21):\n",
    "    dict_proveedores[f\"Proveedor_{i}\"] = Proveedor()\n",
    "    dict_proveedores[f\"Proveedor_{i}\"].nombre = fake.name()\n",
    "    dict_proveedores[f\"Proveedor_{i}\"].direccion = fake.address()\n",
    "    dict_proveedores[f\"Proveedor_{i}\"].ciudad = re.match(patron, dict_proveedores[f\"Proveedor_{i}\"].direccion).group(1) # Con el patrón creado incontramos la provincia, de momento será también nuestra ciudad\n",
    "    dict_proveedores[f\"Proveedor_{i}\"].provincia = dict_proveedores[f\"Proveedor_{i}\"].ciudad\n",
    "    if i < 10:\n",
    "        dict_proveedores[f\"Proveedor_{i}\"].id = int(f\"10{i}\")\n",
    "    else:\n",
    "        dict_proveedores[f\"Proveedor_{i}\"].id = int(f\"1{i}\")"
   ]
  },
  {
   "cell_type": "code",
   "execution_count": null,
   "id": "6eb6d732",
   "metadata": {},
   "outputs": [],
   "source": [
    "# Comprobamos que ha funcionado y nos lo ha creado bien\n",
    "for clave,valor in dict_proveedores.items():\n",
    "    print(f\"{clave}: {valor}\")\n",
    "    print(valor.direccion, valor.ciudad, valor.provincia)"
   ]
  },
  {
   "cell_type": "code",
   "execution_count": null,
   "id": "afbc2e93",
   "metadata": {},
   "outputs": [],
   "source": [
    "for clave, valor in dict_proveedores.items():\n",
    "    query = f''' \n",
    "    INSERT INTO proveedores (id_proveedor, nombre, direccion, ciudad, provincia)\n",
    "    VALUES (\"{valor.id}\", \"{valor.nombre}\", \"{valor.direccion.replace(\"\\n\", \", \")}\", \"{valor.ciudad}\", \"{valor.provincia}\")\n",
    "    '''\n",
    "    cursor_prov.execute(query)"
   ]
  },
  {
   "cell_type": "code",
   "execution_count": null,
   "id": "d377352a",
   "metadata": {},
   "outputs": [],
   "source": [
    "query = ''' \n",
    "SELECT *\n",
    "FROM proveedores\n",
    "'''\n",
    "pd.read_sql(query, cnx)"
   ]
  },
  {
   "cell_type": "code",
   "execution_count": null,
   "id": "8daa1139",
   "metadata": {},
   "outputs": [],
   "source": [
    "cnx.commit()"
   ]
  },
  {
   "cell_type": "code",
   "execution_count": null,
   "id": "40e39f3b",
   "metadata": {},
   "outputs": [],
   "source": []
  },
  {
   "cell_type": "code",
   "execution_count": null,
   "id": "afdaeda9",
   "metadata": {},
   "outputs": [],
   "source": []
  }
 ],
 "metadata": {
  "language_info": {
   "name": "python"
  }
 },
 "nbformat": 4,
 "nbformat_minor": 5
}
